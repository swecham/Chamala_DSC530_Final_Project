{
 "cells": [
  {
   "cell_type": "code",
   "execution_count": 3,
   "metadata": {},
   "outputs": [],
   "source": [
    "# File name: Chamala_DSC530_Final_Project\n",
    "# Author: Swetha Chamala\n",
    "# Date: 02/29/2020\n",
    "# Project: School safety report analysis of NYC schools\n",
    "\n",
    "import numpy as np\n",
    "import pandas as pd\n",
    "import sys\n",
    "import os\n",
    "import matplotlib.pyplot as plt\n",
    "import seaborn as sns\n",
    "import scipy\n",
    "import thinkstats2"
   ]
  },
  {
   "cell_type": "markdown",
   "metadata": {},
   "source": [
    "Importing csv files and checking number of rows and columns\n"
   ]
  },
  {
   "cell_type": "code",
   "execution_count": 4,
   "metadata": {},
   "outputs": [
    {
     "name": "stdout",
     "output_type": "stream",
     "text": [
      "Number of Rows in dataset 1:  6310\n",
      "Number of Columns in dataset 1:  34\n",
      "\n",
      "Number of Rows in dataset 2:  2046\n",
      "Number of Columns in dataset 2:  33\n"
     ]
    }
   ],
   "source": [
    "ssr_df1 = pd.read_csv(\"/Users/swethach/Documents/DS530 Assignments/DSC530 Final Project/Chamala_DSC530_Final_Project/2010_-_2016_School_Safety_Report.csv\")\n",
    "ssr_df2 = pd.read_csv(\"/Users/swethach/Documents/DS530 Assignments/DSC530 Final Project/Chamala_DSC530_Final_Project/2016_-_2017_School_Safety_Report.csv\")\n",
    "\n",
    "print(\"Number of Rows in dataset 1: \", len(ssr_df1.axes[0]))\n",
    "print(\"Number of Columns in dataset 1: \", len(ssr_df1.axes[1]))\n",
    "\n",
    "\n",
    "print(\"\\nNumber of Rows in dataset 2: \", len(ssr_df2.axes[0]))\n",
    "print(\"Number of Columns in dataset 2: \", len(ssr_df2.axes[1]))\n",
    "\n"
   ]
  },
  {
   "cell_type": "markdown",
   "metadata": {},
   "source": [
    "Cleaning data by deleting unwanted columns\n"
   ]
  },
  {
   "cell_type": "code",
   "execution_count": 5,
   "metadata": {},
   "outputs": [],
   "source": [
    "ssr_df1 = ssr_df1.drop(['DBN', 'Address', 'Building Code', 'Location Name', 'Location Code', 'Building Name', 'Borough Name', 'Latitude', 'Longitude', 'Community Board', 'Council District ', 'Census Tract', 'BIN', 'BBL','NTA', 'Postcode'], axis=1)\n",
    "ssr_df2 = ssr_df2.drop(['NYPD Site Code', 'NYPD Site Name', 'Location Name', 'Location Code', 'Building Name', 'Latitude', 'Longitude', 'Community Board', 'Council District', 'Geocode', 'Postcode', 'Census Tract', 'BIN', 'BBL','NTA'], axis=1)\n",
    "\n"
   ]
  },
  {
   "cell_type": "markdown",
   "metadata": {},
   "source": [
    "Removing special characters in the column 'Register' of dataframe 1 - ssr_df1 \n",
    "and converting data type from object to float. \n",
    "\n"
   ]
  },
  {
   "cell_type": "code",
   "execution_count": 6,
   "metadata": {},
   "outputs": [],
   "source": [
    "ssr_df1['Register'] = ssr_df1.Register.str.replace(',', '')\n",
    "ssr_df1['Register'] = ssr_df1.Register.astype(float)\n",
    "\n"
   ]
  },
  {
   "cell_type": "markdown",
   "metadata": {},
   "source": [
    " Deleting rows with N/A values and resetting the indexes"
   ]
  },
  {
   "cell_type": "code",
   "execution_count": 7,
   "metadata": {},
   "outputs": [
    {
     "name": "stdout",
     "output_type": "stream",
     "text": [
      "\n",
      "Number of Rows in cleaned dataset 1:  3543\n",
      "Number of Columns in cleaned dataset 1:  18\n",
      "\n",
      "Number of Rows in cleaned dataset 2:  1207\n",
      "Number of Columns in cleaned dataset 2:  18\n"
     ]
    }
   ],
   "source": [
    "ssr_df1 = ssr_df1.dropna()\n",
    "ssr_df1.reset_index(drop=True, inplace=True)\n",
    "\n",
    "\n",
    "print(\"\\nNumber of Rows in cleaned dataset 1: \", len(ssr_df1.axes[0]))\n",
    "print(\"Number of Columns in cleaned dataset 1: \", len(ssr_df1.axes[1]))\n",
    "\n",
    "ssr_df2 = ssr_df2.dropna()\n",
    "ssr_df2.reset_index(drop=True, inplace=True)\n",
    "\n",
    "\n",
    "print(\"\\nNumber of Rows in cleaned dataset 2: \", len(ssr_df2.axes[0]))\n",
    "print(\"Number of Columns in cleaned dataset 2: \", len(ssr_df2.axes[1]))\n",
    "\n"
   ]
  },
  {
   "cell_type": "markdown",
   "metadata": {},
   "source": [
    "Removing spaces and special characters in column headers\n",
    "\n"
   ]
  },
  {
   "cell_type": "code",
   "execution_count": 8,
   "metadata": {},
   "outputs": [],
   "source": [
    "ssr_df1.columns = ssr_df1.columns.str.replace('# ', '')\n",
    "ssr_df2.columns = ssr_df2.columns.str.replace('# ', '')\n",
    "\n",
    "\n",
    "ssr_df1.columns = ssr_df1.columns.str.replace(' ', '_')\n",
    "ssr_df2.columns = ssr_df2.columns.str.replace(' ', '_')\n",
    "\n"
   ]
  },
  {
   "cell_type": "markdown",
   "metadata": {},
   "source": [
    "Printing a snapshot of both datasets "
   ]
  },
  {
   "cell_type": "code",
   "execution_count": 9,
   "metadata": {},
   "outputs": [
    {
     "name": "stdout",
     "output_type": "stream",
     "text": [
      "\n",
      "Snapshot of dataset 1:\n",
      "   School_Year Borough  Geographical_District_Code  Register  Schools  \\\n",
      "0     2013-14       K                        15.0    1277.0        1   \n",
      "1     2013-14       K                        17.0     876.0        3   \n",
      "2     2013-14       K                        13.0     513.0        1   \n",
      "3     2013-14       K                        16.0     312.0        1   \n",
      "4     2013-14       K                        17.0     714.0        1   \n",
      "\n",
      "                                 Schools_in_Building  Major_N  Oth_N  \\\n",
      "0                                P.S. 001 The Bergen      0.0    2.0   \n",
      "1  Parkside Preparatory Academy |  P.S. K141 |Exp...      1.0    5.0   \n",
      "2                       P.S. 003 The Bedford Village      2.0    0.0   \n",
      "3                         P.S. 005 Dr. Ronald Mcnair      1.0    1.0   \n",
      "4                                           P.S. 006      0.0    1.0   \n",
      "\n",
      "   NoCrim_N  Prop_N  Vio_N ENGroupA     RangeA  AvgOfMajor_N  AvgOfOth_N  \\\n",
      "0       1.0     1.0    0.0       7C  1251-1500          0.86        3.26   \n",
      "1       2.0     2.0    4.0       5C   751-1000          0.52        1.71   \n",
      "2       0.0     2.0    0.0       4C    501-750          0.33        1.32   \n",
      "3       0.0     2.0    0.0       3C    251-500          0.35        1.06   \n",
      "4       2.0     0.0    0.0       4C    501-750          0.33        1.32   \n",
      "\n",
      "   AvgOfNoCrim_N  AvgOfProp_N  AvgOfVio_N  \n",
      "0           5.55         2.17        1.29  \n",
      "1           2.49         1.16        0.75  \n",
      "2           1.76         0.83        0.59  \n",
      "3           1.09         0.73        0.50  \n",
      "4           1.76         0.83        0.59  \n",
      "Snapshot of dataset 2:\n",
      "   School_Year Borough  Geographical_District_Code  Register  Schools  \\\n",
      "0   2016 - 17       K                           7     618.0        1   \n",
      "1   2016 - 17       Q                          28     646.0        1   \n",
      "2   2016 - 17       K                          15    1334.0        1   \n",
      "3   2016 - 17       M                           2     533.0        1   \n",
      "4   2016 - 17       M                           2     833.0        1   \n",
      "\n",
      "        Schools_in_Building  Major_N  Oth_N  NoCrim_N  Prop_N  Vio_N ENGroupA  \\\n",
      "0  Brooklyn College Academy      0.0    0.0       1.0     0.0    0.0       4C   \n",
      "1          P.S. 082 Hammond      0.0    1.0       0.0     1.0    0.0       4C   \n",
      "2       P.S. 001 The Bergen      0.0    0.0       1.0     0.0    0.0       7C   \n",
      "3                 P.S. Q256      0.0    1.0       0.0     0.0    1.0       4C   \n",
      "4      James Weldon Johnson      0.0    1.0       3.0     0.0    1.0       5C   \n",
      "\n",
      "      RangeA  AvgOfMajor_N  AvgOfOth_N  AvgOfNoCrim_N  AvgOfProp_N  AvgOfVio_N  \n",
      "0    501-750          0.28        1.11           1.74         0.75        0.53  \n",
      "1    501-750          0.28        1.11           1.74         0.75        0.53  \n",
      "2  1251-1500          0.64        3.02           5.77         1.72        1.54  \n",
      "3    501-750          0.28        1.11           1.74         0.75        0.53  \n",
      "4   751-1000          0.38        1.71           2.38         0.98        0.82  \n"
     ]
    }
   ],
   "source": [
    "print(\"\\nSnapshot of dataset 1:\\n\", ssr_df1.head())\n",
    "print(\"Snapshot of dataset 2:\\n\",ssr_df2.head())\n",
    "\n",
    "\n",
    "\n"
   ]
  },
  {
   "cell_type": "markdown",
   "metadata": {},
   "source": [
    "Printing datatypes of both datasets"
   ]
  },
  {
   "cell_type": "code",
   "execution_count": 10,
   "metadata": {},
   "outputs": [
    {
     "name": "stdout",
     "output_type": "stream",
     "text": [
      "School_Year                    object\n",
      "Borough                        object\n",
      "Geographical_District_Code    float64\n",
      "Register                      float64\n",
      "Schools                         int64\n",
      "Schools_in_Building            object\n",
      "Major_N                       float64\n",
      "Oth_N                         float64\n",
      "NoCrim_N                      float64\n",
      "Prop_N                        float64\n",
      "Vio_N                         float64\n",
      "ENGroupA                       object\n",
      "RangeA                         object\n",
      "AvgOfMajor_N                  float64\n",
      "AvgOfOth_N                    float64\n",
      "AvgOfNoCrim_N                 float64\n",
      "AvgOfProp_N                   float64\n",
      "AvgOfVio_N                    float64\n",
      "dtype: object\n",
      "School_Year                    object\n",
      "Borough                        object\n",
      "Geographical_District_Code      int64\n",
      "Register                      float64\n",
      "Schools                         int64\n",
      "Schools_in_Building            object\n",
      "Major_N                       float64\n",
      "Oth_N                         float64\n",
      "NoCrim_N                      float64\n",
      "Prop_N                        float64\n",
      "Vio_N                         float64\n",
      "ENGroupA                       object\n",
      "RangeA                         object\n",
      "AvgOfMajor_N                  float64\n",
      "AvgOfOth_N                    float64\n",
      "AvgOfNoCrim_N                 float64\n",
      "AvgOfProp_N                   float64\n",
      "AvgOfVio_N                    float64\n",
      "dtype: object\n"
     ]
    }
   ],
   "source": [
    "print(ssr_df1.dtypes)\n",
    "print(ssr_df2.dtypes)\n",
    "\n"
   ]
  },
  {
   "cell_type": "code",
   "execution_count": null,
   "metadata": {},
   "outputs": [],
   "source": []
  },
  {
   "cell_type": "code",
   "execution_count": null,
   "metadata": {},
   "outputs": [],
   "source": [
    "\n"
   ]
  },
  {
   "cell_type": "code",
   "execution_count": null,
   "metadata": {},
   "outputs": [],
   "source": []
  },
  {
   "cell_type": "markdown",
   "metadata": {},
   "source": [
    "Checking value counts of 'Borough' column of ssr_df1 to determine the distribution of schools based on the 5 boroughs in NYC. \n",
    "\n",
    "K = Brooklyn, Q = Queens, X= Bronx, M = Manhattan, R = Staten Island, O = Other"
   ]
  },
  {
   "cell_type": "code",
   "execution_count": 11,
   "metadata": {},
   "outputs": [
    {
     "data": {
      "text/plain": [
       "<matplotlib.axes._subplots.AxesSubplot at 0x1a1f877e10>"
      ]
     },
     "execution_count": 11,
     "metadata": {},
     "output_type": "execute_result"
    },
    {
     "data": {
      "image/png": "[encoded data removed]",
      "text/plain": [
       "<Figure size 432x288 with 1 Axes>"
      ]
     },
     "metadata": {
      "needs_background": "light"
     },
     "output_type": "display_data"
    }
   ],
   "source": [
    "ssr_df1.Borough.value_counts().plot.bar(legend=True)\n",
    "\n"
   ]
  },
  {
   "cell_type": "markdown",
   "metadata": {},
   "source": [
    "Checking value counts of 'Borough' column of ssr_df2 to determine the distribution of schools based on the 5 boroughs in NYC. \n",
    "\n",
    "K = Brooklyn, Q = Queens, X= Bronx, M = Manhattan, R = Staten Island, O = Other"
   ]
  },
  {
   "cell_type": "code",
   "execution_count": 12,
   "metadata": {},
   "outputs": [
    {
     "data": {
      "text/plain": [
       "<matplotlib.axes._subplots.AxesSubplot at 0x1a1ee20dd0>"
      ]
     },
     "execution_count": 12,
     "metadata": {},
     "output_type": "execute_result"
    },
    {
     "data": {
      "image/png": "[encoded data removed]",
      "text/plain": [
       "<Figure size 432x288 with 1 Axes>"
      ]
     },
     "metadata": {
      "needs_background": "light"
     },
     "output_type": "display_data"
    }
   ],
   "source": [
    "ssr_df2.Borough.value_counts().plot.bar(legend=True)"
   ]
  },
  {
   "cell_type": "markdown",
   "metadata": {},
   "source": [
    "Plotting histograms of all the 'integer' columns in ssr_df1 "
   ]
  },
  {
   "cell_type": "code",
   "execution_count": 13,
   "metadata": {
    "scrolled": true
   },
   "outputs": [
    {
     "data": {
      "text/plain": [
       "array([[<matplotlib.axes._subplots.AxesSubplot object at 0x1a1e4a74d0>,\n",
       "        <matplotlib.axes._subplots.AxesSubplot object at 0x1a1db72d10>,\n",
       "        <matplotlib.axes._subplots.AxesSubplot object at 0x1a1dbb5550>,\n",
       "        <matplotlib.axes._subplots.AxesSubplot object at 0x1a1dbe8d50>],\n",
       "       [<matplotlib.axes._subplots.AxesSubplot object at 0x1a1dc2a590>,\n",
       "        <matplotlib.axes._subplots.AxesSubplot object at 0x1a1dc5ed90>,\n",
       "        <matplotlib.axes._subplots.AxesSubplot object at 0x1a1dc9f5d0>,\n",
       "        <matplotlib.axes._subplots.AxesSubplot object at 0x1a1dcd4dd0>],\n",
       "       [<matplotlib.axes._subplots.AxesSubplot object at 0x1a1dcde950>,\n",
       "        <matplotlib.axes._subplots.AxesSubplot object at 0x1a1dd20310>,\n",
       "        <matplotlib.axes._subplots.AxesSubplot object at 0x1a1dd8b650>,\n",
       "        <matplotlib.axes._subplots.AxesSubplot object at 0x1a1ddbee50>],\n",
       "       [<matplotlib.axes._subplots.AxesSubplot object at 0x1a1de00690>,\n",
       "        <matplotlib.axes._subplots.AxesSubplot object at 0x1a1de36e90>,\n",
       "        <matplotlib.axes._subplots.AxesSubplot object at 0x1a1de766d0>,\n",
       "        <matplotlib.axes._subplots.AxesSubplot object at 0x1a1deaaed0>]],\n",
       "      dtype=object)"
      ]
     },
     "execution_count": 13,
     "metadata": {},
     "output_type": "execute_result"
    },
    {
     "data": {
      "image/png": "[encoded data removed]",
      "text/plain": [
       "<Figure size 1440x720 with 16 Axes>"
      ]
     },
     "metadata": {
      "needs_background": "light"
     },
     "output_type": "display_data"
    }
   ],
   "source": [
    "ssr_df1.hist(figsize=(20, 10))"
   ]
  },
  {
   "cell_type": "markdown",
   "metadata": {},
   "source": [
    "The 5 variables - Major_N, NoCrim_N, Oth_N, Prop_N, Vio_N have similar distributions. Thereby same trend is observed in their corresponding 'Avg' distributions."
   ]
  },
  {
   "cell_type": "markdown",
   "metadata": {},
   "source": [
    "Plotting histograms of all the 'integer' columns in ssr_df2"
   ]
  },
  {
   "cell_type": "code",
   "execution_count": 14,
   "metadata": {},
   "outputs": [
    {
     "data": {
      "text/plain": [
       "array([[<matplotlib.axes._subplots.AxesSubplot object at 0x1a1edac790>,\n",
       "        <matplotlib.axes._subplots.AxesSubplot object at 0x1a1f2a2590>,\n",
       "        <matplotlib.axes._subplots.AxesSubplot object at 0x1a1f2b5c50>,\n",
       "        <matplotlib.axes._subplots.AxesSubplot object at 0x1a1f2f2fd0>],\n",
       "       [<matplotlib.axes._subplots.AxesSubplot object at 0x1a1f326c90>,\n",
       "        <matplotlib.axes._subplots.AxesSubplot object at 0x1a1f3664d0>,\n",
       "        <matplotlib.axes._subplots.AxesSubplot object at 0x1a1f39bcd0>,\n",
       "        <matplotlib.axes._subplots.AxesSubplot object at 0x1a1f3db510>],\n",
       "       [<matplotlib.axes._subplots.AxesSubplot object at 0x1a1f3e6090>,\n",
       "        <matplotlib.axes._subplots.AxesSubplot object at 0x1a1f419a10>,\n",
       "        <matplotlib.axes._subplots.AxesSubplot object at 0x1a1f485d50>,\n",
       "        <matplotlib.axes._subplots.AxesSubplot object at 0x1a1f4c7590>],\n",
       "       [<matplotlib.axes._subplots.AxesSubplot object at 0x1a1f4fbd90>,\n",
       "        <matplotlib.axes._subplots.AxesSubplot object at 0x1a1f53d5d0>,\n",
       "        <matplotlib.axes._subplots.AxesSubplot object at 0x1a1f56fdd0>,\n",
       "        <matplotlib.axes._subplots.AxesSubplot object at 0x1a1f5b2610>]],\n",
       "      dtype=object)"
      ]
     },
     "execution_count": 14,
     "metadata": {},
     "output_type": "execute_result"
    },
    {
     "data": {
      "image/png": "[encoded data removed]",
      "text/plain": [
       "<Figure size 1440x720 with 16 Axes>"
      ]
     },
     "metadata": {
      "needs_background": "light"
     },
     "output_type": "display_data"
    }
   ],
   "source": [
    "ssr_df2.hist(figsize=(20, 10))"
   ]
  },
  {
   "cell_type": "markdown",
   "metadata": {},
   "source": [
    "Similar to dataset 1, the 2016-2017 dataset: ssr_df2 also shows the same trends.\n",
    "The 5 variables - Major_N, NoCrim_N, Oth_N, Prop_N, Vio_N have similar distributions. Thereby same trend is observed in their corresponding 'Avg' distributions."
   ]
  },
  {
   "cell_type": "markdown",
   "metadata": {},
   "source": [
    "Calculating mean, min and max for dataset 1"
   ]
  },
  {
   "cell_type": "code",
   "execution_count": 15,
   "metadata": {},
   "outputs": [
    {
     "data": {
      "text/html": [
       "<div>\n",
       "<style scoped>\n",
       "    .dataframe tbody tr th:only-of-type {\n",
       "        vertical-align: middle;\n",
       "    }\n",
       "\n",
       "    .dataframe tbody tr th {\n",
       "        vertical-align: top;\n",
       "    }\n",
       "\n",
       "    .dataframe thead th {\n",
       "        text-align: right;\n",
       "    }\n",
       "</style>\n",
       "<table border=\"1\" class=\"dataframe\">\n",
       "  <thead>\n",
       "    <tr style=\"text-align: right;\">\n",
       "      <th></th>\n",
       "      <th>Geographical_District_Code</th>\n",
       "      <th>Register</th>\n",
       "      <th>Schools</th>\n",
       "      <th>Major_N</th>\n",
       "      <th>Oth_N</th>\n",
       "      <th>NoCrim_N</th>\n",
       "      <th>Prop_N</th>\n",
       "      <th>Vio_N</th>\n",
       "      <th>AvgOfMajor_N</th>\n",
       "      <th>AvgOfOth_N</th>\n",
       "      <th>AvgOfNoCrim_N</th>\n",
       "      <th>AvgOfProp_N</th>\n",
       "      <th>AvgOfVio_N</th>\n",
       "    </tr>\n",
       "  </thead>\n",
       "  <tbody>\n",
       "    <tr>\n",
       "      <td>count</td>\n",
       "      <td>3543.000000</td>\n",
       "      <td>3543.000000</td>\n",
       "      <td>3543.000000</td>\n",
       "      <td>3543.000000</td>\n",
       "      <td>3543.000000</td>\n",
       "      <td>3543.000000</td>\n",
       "      <td>3543.000000</td>\n",
       "      <td>3543.000000</td>\n",
       "      <td>3543.000000</td>\n",
       "      <td>3543.000000</td>\n",
       "      <td>3543.000000</td>\n",
       "      <td>3543.000000</td>\n",
       "      <td>3543.000000</td>\n",
       "    </tr>\n",
       "    <tr>\n",
       "      <td>mean</td>\n",
       "      <td>17.036410</td>\n",
       "      <td>852.122495</td>\n",
       "      <td>1.492803</td>\n",
       "      <td>0.500988</td>\n",
       "      <td>1.951454</td>\n",
       "      <td>3.313294</td>\n",
       "      <td>1.261078</td>\n",
       "      <td>0.894157</td>\n",
       "      <td>0.500641</td>\n",
       "      <td>1.939738</td>\n",
       "      <td>3.284045</td>\n",
       "      <td>1.256658</td>\n",
       "      <td>0.888191</td>\n",
       "    </tr>\n",
       "    <tr>\n",
       "      <td>std</td>\n",
       "      <td>9.462552</td>\n",
       "      <td>603.649524</td>\n",
       "      <td>1.008374</td>\n",
       "      <td>1.020920</td>\n",
       "      <td>3.154664</td>\n",
       "      <td>6.811536</td>\n",
       "      <td>2.068116</td>\n",
       "      <td>1.760290</td>\n",
       "      <td>0.416639</td>\n",
       "      <td>1.761559</td>\n",
       "      <td>4.086536</td>\n",
       "      <td>1.065912</td>\n",
       "      <td>0.804788</td>\n",
       "    </tr>\n",
       "    <tr>\n",
       "      <td>min</td>\n",
       "      <td>0.000000</td>\n",
       "      <td>3.000000</td>\n",
       "      <td>1.000000</td>\n",
       "      <td>0.000000</td>\n",
       "      <td>0.000000</td>\n",
       "      <td>0.000000</td>\n",
       "      <td>0.000000</td>\n",
       "      <td>0.000000</td>\n",
       "      <td>0.240000</td>\n",
       "      <td>0.710000</td>\n",
       "      <td>1.090000</td>\n",
       "      <td>0.510000</td>\n",
       "      <td>0.320000</td>\n",
       "    </tr>\n",
       "    <tr>\n",
       "      <td>25%</td>\n",
       "      <td>9.000000</td>\n",
       "      <td>487.000000</td>\n",
       "      <td>1.000000</td>\n",
       "      <td>0.000000</td>\n",
       "      <td>0.000000</td>\n",
       "      <td>0.000000</td>\n",
       "      <td>0.000000</td>\n",
       "      <td>0.000000</td>\n",
       "      <td>0.310000</td>\n",
       "      <td>1.110000</td>\n",
       "      <td>1.710000</td>\n",
       "      <td>0.750000</td>\n",
       "      <td>0.500000</td>\n",
       "    </tr>\n",
       "    <tr>\n",
       "      <td>50%</td>\n",
       "      <td>17.000000</td>\n",
       "      <td>700.000000</td>\n",
       "      <td>1.000000</td>\n",
       "      <td>0.000000</td>\n",
       "      <td>1.000000</td>\n",
       "      <td>1.000000</td>\n",
       "      <td>1.000000</td>\n",
       "      <td>0.000000</td>\n",
       "      <td>0.350000</td>\n",
       "      <td>1.320000</td>\n",
       "      <td>1.820000</td>\n",
       "      <td>0.830000</td>\n",
       "      <td>0.590000</td>\n",
       "    </tr>\n",
       "    <tr>\n",
       "      <td>75%</td>\n",
       "      <td>26.000000</td>\n",
       "      <td>1035.500000</td>\n",
       "      <td>2.000000</td>\n",
       "      <td>1.000000</td>\n",
       "      <td>3.000000</td>\n",
       "      <td>3.000000</td>\n",
       "      <td>2.000000</td>\n",
       "      <td>1.000000</td>\n",
       "      <td>0.520000</td>\n",
       "      <td>2.120000</td>\n",
       "      <td>3.560000</td>\n",
       "      <td>1.290000</td>\n",
       "      <td>1.000000</td>\n",
       "    </tr>\n",
       "    <tr>\n",
       "      <td>max</td>\n",
       "      <td>32.000000</td>\n",
       "      <td>5534.000000</td>\n",
       "      <td>10.000000</td>\n",
       "      <td>15.000000</td>\n",
       "      <td>29.000000</td>\n",
       "      <td>84.000000</td>\n",
       "      <td>22.000000</td>\n",
       "      <td>20.000000</td>\n",
       "      <td>3.330000</td>\n",
       "      <td>13.000000</td>\n",
       "      <td>34.860000</td>\n",
       "      <td>9.200000</td>\n",
       "      <td>7.170000</td>\n",
       "    </tr>\n",
       "  </tbody>\n",
       "</table>\n",
       "</div>"
      ],
      "text/plain": [
       "       Geographical_District_Code     Register      Schools      Major_N  \\\n",
       "count                 3543.000000  3543.000000  3543.000000  3543.000000   \n",
       "mean                    17.036410   852.122495     1.492803     0.500988   \n",
       "std                      9.462552   603.649524     1.008374     1.020920   \n",
       "min                      0.000000     3.000000     1.000000     0.000000   \n",
       "25%                      9.000000   487.000000     1.000000     0.000000   \n",
       "50%                     17.000000   700.000000     1.000000     0.000000   \n",
       "75%                     26.000000  1035.500000     2.000000     1.000000   \n",
       "max                     32.000000  5534.000000    10.000000    15.000000   \n",
       "\n",
       "             Oth_N     NoCrim_N       Prop_N        Vio_N  AvgOfMajor_N  \\\n",
       "count  3543.000000  3543.000000  3543.000000  3543.000000   3543.000000   \n",
       "mean      1.951454     3.313294     1.261078     0.894157      0.500641   \n",
       "std       3.154664     6.811536     2.068116     1.760290      0.416639   \n",
       "min       0.000000     0.000000     0.000000     0.000000      0.240000   \n",
       "25%       0.000000     0.000000     0.000000     0.000000      0.310000   \n",
       "50%       1.000000     1.000000     1.000000     0.000000      0.350000   \n",
       "75%       3.000000     3.000000     2.000000     1.000000      0.520000   \n",
       "max      29.000000    84.000000    22.000000    20.000000      3.330000   \n",
       "\n",
       "        AvgOfOth_N  AvgOfNoCrim_N  AvgOfProp_N   AvgOfVio_N  \n",
       "count  3543.000000    3543.000000  3543.000000  3543.000000  \n",
       "mean      1.939738       3.284045     1.256658     0.888191  \n",
       "std       1.761559       4.086536     1.065912     0.804788  \n",
       "min       0.710000       1.090000     0.510000     0.320000  \n",
       "25%       1.110000       1.710000     0.750000     0.500000  \n",
       "50%       1.320000       1.820000     0.830000     0.590000  \n",
       "75%       2.120000       3.560000     1.290000     1.000000  \n",
       "max      13.000000      34.860000     9.200000     7.170000  "
      ]
     },
     "execution_count": 15,
     "metadata": {},
     "output_type": "execute_result"
    }
   ],
   "source": [
    "ssr_df1.describe()"
   ]
  },
  {
   "cell_type": "markdown",
   "metadata": {},
   "source": [
    "Calculating mean, min and max for dataset 2"
   ]
  },
  {
   "cell_type": "code",
   "execution_count": 16,
   "metadata": {},
   "outputs": [
    {
     "data": {
      "text/html": [
       "<div>\n",
       "<style scoped>\n",
       "    .dataframe tbody tr th:only-of-type {\n",
       "        vertical-align: middle;\n",
       "    }\n",
       "\n",
       "    .dataframe tbody tr th {\n",
       "        vertical-align: top;\n",
       "    }\n",
       "\n",
       "    .dataframe thead th {\n",
       "        text-align: right;\n",
       "    }\n",
       "</style>\n",
       "<table border=\"1\" class=\"dataframe\">\n",
       "  <thead>\n",
       "    <tr style=\"text-align: right;\">\n",
       "      <th></th>\n",
       "      <th>Geographical_District_Code</th>\n",
       "      <th>Register</th>\n",
       "      <th>Schools</th>\n",
       "      <th>Major_N</th>\n",
       "      <th>Oth_N</th>\n",
       "      <th>NoCrim_N</th>\n",
       "      <th>Prop_N</th>\n",
       "      <th>Vio_N</th>\n",
       "      <th>AvgOfMajor_N</th>\n",
       "      <th>AvgOfOth_N</th>\n",
       "      <th>AvgOfNoCrim_N</th>\n",
       "      <th>AvgOfProp_N</th>\n",
       "      <th>AvgOfVio_N</th>\n",
       "    </tr>\n",
       "  </thead>\n",
       "  <tbody>\n",
       "    <tr>\n",
       "      <td>count</td>\n",
       "      <td>1207.000000</td>\n",
       "      <td>1207.000000</td>\n",
       "      <td>1207.000000</td>\n",
       "      <td>1207.000000</td>\n",
       "      <td>1207.000000</td>\n",
       "      <td>1207.000000</td>\n",
       "      <td>1207.000000</td>\n",
       "      <td>1207.000000</td>\n",
       "      <td>1207.000000</td>\n",
       "      <td>1207.000000</td>\n",
       "      <td>1207.000000</td>\n",
       "      <td>1207.000000</td>\n",
       "      <td>1207.000000</td>\n",
       "    </tr>\n",
       "    <tr>\n",
       "      <td>mean</td>\n",
       "      <td>16.968517</td>\n",
       "      <td>856.323944</td>\n",
       "      <td>1.447390</td>\n",
       "      <td>0.413422</td>\n",
       "      <td>1.651201</td>\n",
       "      <td>3.573322</td>\n",
       "      <td>0.984258</td>\n",
       "      <td>0.863297</td>\n",
       "      <td>0.440563</td>\n",
       "      <td>1.856031</td>\n",
       "      <td>3.442883</td>\n",
       "      <td>1.133488</td>\n",
       "      <td>0.887481</td>\n",
       "    </tr>\n",
       "    <tr>\n",
       "      <td>std</td>\n",
       "      <td>9.485907</td>\n",
       "      <td>617.769270</td>\n",
       "      <td>0.913511</td>\n",
       "      <td>0.870896</td>\n",
       "      <td>2.741209</td>\n",
       "      <td>7.060698</td>\n",
       "      <td>1.691041</td>\n",
       "      <td>1.705139</td>\n",
       "      <td>0.354248</td>\n",
       "      <td>1.702996</td>\n",
       "      <td>4.112250</td>\n",
       "      <td>0.926291</td>\n",
       "      <td>0.771352</td>\n",
       "    </tr>\n",
       "    <tr>\n",
       "      <td>min</td>\n",
       "      <td>0.000000</td>\n",
       "      <td>74.000000</td>\n",
       "      <td>1.000000</td>\n",
       "      <td>0.000000</td>\n",
       "      <td>0.000000</td>\n",
       "      <td>0.000000</td>\n",
       "      <td>0.000000</td>\n",
       "      <td>0.000000</td>\n",
       "      <td>0.240000</td>\n",
       "      <td>0.710000</td>\n",
       "      <td>1.670000</td>\n",
       "      <td>0.510000</td>\n",
       "      <td>0.320000</td>\n",
       "    </tr>\n",
       "    <tr>\n",
       "      <td>25%</td>\n",
       "      <td>9.000000</td>\n",
       "      <td>470.500000</td>\n",
       "      <td>1.000000</td>\n",
       "      <td>0.000000</td>\n",
       "      <td>0.000000</td>\n",
       "      <td>0.000000</td>\n",
       "      <td>0.000000</td>\n",
       "      <td>0.000000</td>\n",
       "      <td>0.270000</td>\n",
       "      <td>0.900000</td>\n",
       "      <td>1.710000</td>\n",
       "      <td>0.630000</td>\n",
       "      <td>0.440000</td>\n",
       "    </tr>\n",
       "    <tr>\n",
       "      <td>50%</td>\n",
       "      <td>17.000000</td>\n",
       "      <td>695.000000</td>\n",
       "      <td>1.000000</td>\n",
       "      <td>0.000000</td>\n",
       "      <td>1.000000</td>\n",
       "      <td>1.000000</td>\n",
       "      <td>0.000000</td>\n",
       "      <td>0.000000</td>\n",
       "      <td>0.280000</td>\n",
       "      <td>1.110000</td>\n",
       "      <td>1.740000</td>\n",
       "      <td>0.750000</td>\n",
       "      <td>0.530000</td>\n",
       "    </tr>\n",
       "    <tr>\n",
       "      <td>75%</td>\n",
       "      <td>26.000000</td>\n",
       "      <td>1046.000000</td>\n",
       "      <td>2.000000</td>\n",
       "      <td>1.000000</td>\n",
       "      <td>2.000000</td>\n",
       "      <td>4.000000</td>\n",
       "      <td>1.000000</td>\n",
       "      <td>1.000000</td>\n",
       "      <td>0.570000</td>\n",
       "      <td>2.120000</td>\n",
       "      <td>3.640000</td>\n",
       "      <td>1.390000</td>\n",
       "      <td>1.050000</td>\n",
       "    </tr>\n",
       "    <tr>\n",
       "      <td>max</td>\n",
       "      <td>32.000000</td>\n",
       "      <td>5682.000000</td>\n",
       "      <td>8.000000</td>\n",
       "      <td>8.000000</td>\n",
       "      <td>21.000000</td>\n",
       "      <td>88.000000</td>\n",
       "      <td>16.000000</td>\n",
       "      <td>12.000000</td>\n",
       "      <td>3.140000</td>\n",
       "      <td>13.000000</td>\n",
       "      <td>34.860000</td>\n",
       "      <td>8.290000</td>\n",
       "      <td>5.290000</td>\n",
       "    </tr>\n",
       "  </tbody>\n",
       "</table>\n",
       "</div>"
      ],
      "text/plain": [
       "       Geographical_District_Code     Register      Schools      Major_N  \\\n",
       "count                 1207.000000  1207.000000  1207.000000  1207.000000   \n",
       "mean                    16.968517   856.323944     1.447390     0.413422   \n",
       "std                      9.485907   617.769270     0.913511     0.870896   \n",
       "min                      0.000000    74.000000     1.000000     0.000000   \n",
       "25%                      9.000000   470.500000     1.000000     0.000000   \n",
       "50%                     17.000000   695.000000     1.000000     0.000000   \n",
       "75%                     26.000000  1046.000000     2.000000     1.000000   \n",
       "max                     32.000000  5682.000000     8.000000     8.000000   \n",
       "\n",
       "             Oth_N     NoCrim_N       Prop_N        Vio_N  AvgOfMajor_N  \\\n",
       "count  1207.000000  1207.000000  1207.000000  1207.000000   1207.000000   \n",
       "mean      1.651201     3.573322     0.984258     0.863297      0.440563   \n",
       "std       2.741209     7.060698     1.691041     1.705139      0.354248   \n",
       "min       0.000000     0.000000     0.000000     0.000000      0.240000   \n",
       "25%       0.000000     0.000000     0.000000     0.000000      0.270000   \n",
       "50%       1.000000     1.000000     0.000000     0.000000      0.280000   \n",
       "75%       2.000000     4.000000     1.000000     1.000000      0.570000   \n",
       "max      21.000000    88.000000    16.000000    12.000000      3.140000   \n",
       "\n",
       "        AvgOfOth_N  AvgOfNoCrim_N  AvgOfProp_N   AvgOfVio_N  \n",
       "count  1207.000000    1207.000000  1207.000000  1207.000000  \n",
       "mean      1.856031       3.442883     1.133488     0.887481  \n",
       "std       1.702996       4.112250     0.926291     0.771352  \n",
       "min       0.710000       1.670000     0.510000     0.320000  \n",
       "25%       0.900000       1.710000     0.630000     0.440000  \n",
       "50%       1.110000       1.740000     0.750000     0.530000  \n",
       "75%       2.120000       3.640000     1.390000     1.050000  \n",
       "max      13.000000      34.860000     8.290000     5.290000  "
      ]
     },
     "execution_count": 16,
     "metadata": {},
     "output_type": "execute_result"
    }
   ],
   "source": [
    "ssr_df2.describe()"
   ]
  },
  {
   "cell_type": "markdown",
   "metadata": {},
   "source": [
    "Calculating mode for dataset 1"
   ]
  },
  {
   "cell_type": "code",
   "execution_count": 17,
   "metadata": {
    "scrolled": true
   },
   "outputs": [
    {
     "data": {
      "text/html": [
       "<div>\n",
       "<style scoped>\n",
       "    .dataframe tbody tr th:only-of-type {\n",
       "        vertical-align: middle;\n",
       "    }\n",
       "\n",
       "    .dataframe tbody tr th {\n",
       "        vertical-align: top;\n",
       "    }\n",
       "\n",
       "    .dataframe thead th {\n",
       "        text-align: right;\n",
       "    }\n",
       "</style>\n",
       "<table border=\"1\" class=\"dataframe\">\n",
       "  <thead>\n",
       "    <tr style=\"text-align: right;\">\n",
       "      <th></th>\n",
       "      <th>School_Year</th>\n",
       "      <th>Borough</th>\n",
       "      <th>Geographical_District_Code</th>\n",
       "      <th>Register</th>\n",
       "      <th>Schools</th>\n",
       "      <th>Schools_in_Building</th>\n",
       "      <th>Major_N</th>\n",
       "      <th>Oth_N</th>\n",
       "      <th>NoCrim_N</th>\n",
       "      <th>Prop_N</th>\n",
       "      <th>Vio_N</th>\n",
       "      <th>ENGroupA</th>\n",
       "      <th>RangeA</th>\n",
       "      <th>AvgOfMajor_N</th>\n",
       "      <th>AvgOfOth_N</th>\n",
       "      <th>AvgOfNoCrim_N</th>\n",
       "      <th>AvgOfProp_N</th>\n",
       "      <th>AvgOfVio_N</th>\n",
       "    </tr>\n",
       "  </thead>\n",
       "  <tbody>\n",
       "    <tr>\n",
       "      <td>0</td>\n",
       "      <td>2014-15</td>\n",
       "      <td>K</td>\n",
       "      <td>2.0</td>\n",
       "      <td>504.0</td>\n",
       "      <td>1.0</td>\n",
       "      <td>P.S. 253</td>\n",
       "      <td>0.0</td>\n",
       "      <td>0.0</td>\n",
       "      <td>0.0</td>\n",
       "      <td>0.0</td>\n",
       "      <td>0.0</td>\n",
       "      <td>4C</td>\n",
       "      <td>501-750</td>\n",
       "      <td>0.27</td>\n",
       "      <td>1.11</td>\n",
       "      <td>1.76</td>\n",
       "      <td>0.83</td>\n",
       "      <td>0.75</td>\n",
       "    </tr>\n",
       "    <tr>\n",
       "      <td>1</td>\n",
       "      <td>2015-16</td>\n",
       "      <td>NaN</td>\n",
       "      <td>NaN</td>\n",
       "      <td>NaN</td>\n",
       "      <td>NaN</td>\n",
       "      <td>NaN</td>\n",
       "      <td>NaN</td>\n",
       "      <td>NaN</td>\n",
       "      <td>NaN</td>\n",
       "      <td>NaN</td>\n",
       "      <td>NaN</td>\n",
       "      <td>NaN</td>\n",
       "      <td>NaN</td>\n",
       "      <td>NaN</td>\n",
       "      <td>NaN</td>\n",
       "      <td>NaN</td>\n",
       "      <td>NaN</td>\n",
       "      <td>NaN</td>\n",
       "    </tr>\n",
       "  </tbody>\n",
       "</table>\n",
       "</div>"
      ],
      "text/plain": [
       "  School_Year Borough  Geographical_District_Code  Register  Schools  \\\n",
       "0     2014-15       K                         2.0     504.0      1.0   \n",
       "1     2015-16     NaN                         NaN       NaN      NaN   \n",
       "\n",
       "  Schools_in_Building  Major_N  Oth_N  NoCrim_N  Prop_N  Vio_N ENGroupA  \\\n",
       "0            P.S. 253      0.0    0.0       0.0     0.0    0.0       4C   \n",
       "1                 NaN      NaN    NaN       NaN     NaN    NaN      NaN   \n",
       "\n",
       "    RangeA  AvgOfMajor_N  AvgOfOth_N  AvgOfNoCrim_N  AvgOfProp_N  AvgOfVio_N  \n",
       "0  501-750          0.27        1.11           1.76         0.83        0.75  \n",
       "1      NaN           NaN         NaN            NaN          NaN         NaN  "
      ]
     },
     "execution_count": 17,
     "metadata": {},
     "output_type": "execute_result"
    }
   ],
   "source": [
    "ssr_df1.mode()\n"
   ]
  },
  {
   "cell_type": "markdown",
   "metadata": {},
   "source": [
    "Calculating mode for dataset 2"
   ]
  },
  {
   "cell_type": "code",
   "execution_count": 18,
   "metadata": {},
   "outputs": [
    {
     "data": {
      "text/html": [
       "<div>\n",
       "<style scoped>\n",
       "    .dataframe tbody tr th:only-of-type {\n",
       "        vertical-align: middle;\n",
       "    }\n",
       "\n",
       "    .dataframe tbody tr th {\n",
       "        vertical-align: top;\n",
       "    }\n",
       "\n",
       "    .dataframe thead th {\n",
       "        text-align: right;\n",
       "    }\n",
       "</style>\n",
       "<table border=\"1\" class=\"dataframe\">\n",
       "  <thead>\n",
       "    <tr style=\"text-align: right;\">\n",
       "      <th></th>\n",
       "      <th>School_Year</th>\n",
       "      <th>Borough</th>\n",
       "      <th>Geographical_District_Code</th>\n",
       "      <th>Register</th>\n",
       "      <th>Schools</th>\n",
       "      <th>Schools_in_Building</th>\n",
       "      <th>Major_N</th>\n",
       "      <th>Oth_N</th>\n",
       "      <th>NoCrim_N</th>\n",
       "      <th>Prop_N</th>\n",
       "      <th>Vio_N</th>\n",
       "      <th>ENGroupA</th>\n",
       "      <th>RangeA</th>\n",
       "      <th>AvgOfMajor_N</th>\n",
       "      <th>AvgOfOth_N</th>\n",
       "      <th>AvgOfNoCrim_N</th>\n",
       "      <th>AvgOfProp_N</th>\n",
       "      <th>AvgOfVio_N</th>\n",
       "    </tr>\n",
       "  </thead>\n",
       "  <tbody>\n",
       "    <tr>\n",
       "      <td>0</td>\n",
       "      <td>2016 - 17</td>\n",
       "      <td>K</td>\n",
       "      <td>2</td>\n",
       "      <td>508.0</td>\n",
       "      <td>1</td>\n",
       "      <td>P.S. 253</td>\n",
       "      <td>0.0</td>\n",
       "      <td>0.0</td>\n",
       "      <td>0.0</td>\n",
       "      <td>0.0</td>\n",
       "      <td>0.0</td>\n",
       "      <td>4C</td>\n",
       "      <td>501-750</td>\n",
       "      <td>0.28</td>\n",
       "      <td>1.11</td>\n",
       "      <td>1.74</td>\n",
       "      <td>0.75</td>\n",
       "      <td>0.53</td>\n",
       "    </tr>\n",
       "  </tbody>\n",
       "</table>\n",
       "</div>"
      ],
      "text/plain": [
       "  School_Year Borough  Geographical_District_Code  Register  Schools  \\\n",
       "0   2016 - 17       K                           2     508.0        1   \n",
       "\n",
       "  Schools_in_Building  Major_N  Oth_N  NoCrim_N  Prop_N  Vio_N ENGroupA  \\\n",
       "0            P.S. 253      0.0    0.0       0.0     0.0    0.0       4C   \n",
       "\n",
       "    RangeA  AvgOfMajor_N  AvgOfOth_N  AvgOfNoCrim_N  AvgOfProp_N  AvgOfVio_N  \n",
       "0  501-750          0.28        1.11           1.74         0.75        0.53  "
      ]
     },
     "execution_count": 18,
     "metadata": {},
     "output_type": "execute_result"
    }
   ],
   "source": [
    "ssr_df2.mode()"
   ]
  },
  {
   "cell_type": "markdown",
   "metadata": {},
   "source": [
    "Calculating variance for dataset 1"
   ]
  },
  {
   "cell_type": "code",
   "execution_count": 19,
   "metadata": {
    "scrolled": true
   },
   "outputs": [
    {
     "data": {
      "text/plain": [
       "Geographical_District_Code        89.539894\n",
       "Register                      364392.747837\n",
       "Schools                            1.016817\n",
       "Major_N                            1.042277\n",
       "Oth_N                              9.951906\n",
       "NoCrim_N                          46.397020\n",
       "Prop_N                             4.277104\n",
       "Vio_N                              3.098619\n",
       "AvgOfMajor_N                       0.173588\n",
       "AvgOfOth_N                         3.103091\n",
       "AvgOfNoCrim_N                     16.699775\n",
       "AvgOfProp_N                        1.136168\n",
       "AvgOfVio_N                         0.647683\n",
       "dtype: float64"
      ]
     },
     "execution_count": 19,
     "metadata": {},
     "output_type": "execute_result"
    }
   ],
   "source": [
    "ssr_df1.var()\n"
   ]
  },
  {
   "cell_type": "markdown",
   "metadata": {},
   "source": [
    "Calculating variance for dataset 2"
   ]
  },
  {
   "cell_type": "code",
   "execution_count": 20,
   "metadata": {
    "scrolled": true
   },
   "outputs": [
    {
     "data": {
      "text/plain": [
       "Geographical_District_Code        89.982424\n",
       "Register                      381638.870927\n",
       "Schools                            0.834502\n",
       "Major_N                            0.758460\n",
       "Oth_N                              7.514225\n",
       "NoCrim_N                          49.853450\n",
       "Prop_N                             2.859619\n",
       "Vio_N                              2.907499\n",
       "AvgOfMajor_N                       0.125492\n",
       "AvgOfOth_N                         2.900195\n",
       "AvgOfNoCrim_N                     16.910597\n",
       "AvgOfProp_N                        0.858015\n",
       "AvgOfVio_N                         0.594983\n",
       "dtype: float64"
      ]
     },
     "execution_count": 20,
     "metadata": {},
     "output_type": "execute_result"
    }
   ],
   "source": [
    "ssr_df2.var()"
   ]
  },
  {
   "cell_type": "markdown",
   "metadata": {},
   "source": [
    "Calculating min and max for dataset 1"
   ]
  },
  {
   "cell_type": "code",
   "execution_count": 21,
   "metadata": {},
   "outputs": [
    {
     "data": {
      "text/plain": [
       "(School_Year                                                             2013-14\n",
       " Borough                                                                       K\n",
       " Geographical_District_Code                                                    0\n",
       " Register                                                                      3\n",
       " Schools                                                                       1\n",
       " Schools_in_Building             Archer Elementary School |  PS 536 |  Bronx ...\n",
       " Major_N                                                                       0\n",
       " Oth_N                                                                         0\n",
       " NoCrim_N                                                                      0\n",
       " Prop_N                                                                        0\n",
       " Vio_N                                                                         0\n",
       " ENGroupA                                                                    10C\n",
       " RangeA                                                                    1-250\n",
       " AvgOfMajor_N                                                               0.24\n",
       " AvgOfOth_N                                                                 0.71\n",
       " AvgOfNoCrim_N                                                              1.09\n",
       " AvgOfProp_N                                                                0.51\n",
       " AvgOfVio_N                                                                 0.32\n",
       " dtype: object,\n",
       " School_Year                                                   2015-16\n",
       " Borough                                                             X\n",
       " Geographical_District_Code                                         32\n",
       " Register                                                         5534\n",
       " Schools                                                            10\n",
       " Schools_in_Building           Young Women's Leadership School, Queens\n",
       " Major_N                                                            15\n",
       " Oth_N                                                              29\n",
       " NoCrim_N                                                           84\n",
       " Prop_N                                                             22\n",
       " Vio_N                                                              20\n",
       " ENGroupA                                                           9C\n",
       " RangeA                                                       751-1000\n",
       " AvgOfMajor_N                                                     3.33\n",
       " AvgOfOth_N                                                         13\n",
       " AvgOfNoCrim_N                                                   34.86\n",
       " AvgOfProp_N                                                       9.2\n",
       " AvgOfVio_N                                                       7.17\n",
       " dtype: object)"
      ]
     },
     "execution_count": 21,
     "metadata": {},
     "output_type": "execute_result"
    }
   ],
   "source": [
    "ssr_df1.min(), ssr_df1.max()\n"
   ]
  },
  {
   "cell_type": "markdown",
   "metadata": {},
   "source": [
    "Calculating PMFs for all variables in dataset 1"
   ]
  },
  {
   "cell_type": "code",
   "execution_count": 104,
   "metadata": {},
   "outputs": [
    {
     "data": {
      "text/html": [
       "<div>\n",
       "<style scoped>\n",
       "    .dataframe tbody tr th:only-of-type {\n",
       "        vertical-align: middle;\n",
       "    }\n",
       "\n",
       "    .dataframe tbody tr th {\n",
       "        vertical-align: top;\n",
       "    }\n",
       "\n",
       "    .dataframe thead th {\n",
       "        text-align: right;\n",
       "    }\n",
       "</style>\n",
       "<table border=\"1\" class=\"dataframe\">\n",
       "  <thead>\n",
       "    <tr style=\"text-align: right;\">\n",
       "      <th></th>\n",
       "      <th>Major_N</th>\n",
       "      <th>Oth_N</th>\n",
       "      <th>NoCrim_N</th>\n",
       "      <th>Prop_N</th>\n",
       "      <th>Vio_N</th>\n",
       "    </tr>\n",
       "  </thead>\n",
       "  <tbody>\n",
       "    <tr>\n",
       "      <td>0.0</td>\n",
       "      <td>0.707028</td>\n",
       "      <td>0.441716</td>\n",
       "      <td>0.384702</td>\n",
       "      <td>0.494214</td>\n",
       "      <td>0.642958</td>\n",
       "    </tr>\n",
       "    <tr>\n",
       "      <td>1.0</td>\n",
       "      <td>0.177815</td>\n",
       "      <td>0.206605</td>\n",
       "      <td>0.210838</td>\n",
       "      <td>0.234547</td>\n",
       "      <td>0.160034</td>\n",
       "    </tr>\n",
       "    <tr>\n",
       "      <td>2.0</td>\n",
       "      <td>0.065199</td>\n",
       "      <td>0.100762</td>\n",
       "      <td>0.112899</td>\n",
       "      <td>0.108947</td>\n",
       "      <td>0.075642</td>\n",
       "    </tr>\n",
       "    <tr>\n",
       "      <td>3.0</td>\n",
       "      <td>0.027942</td>\n",
       "      <td>0.070279</td>\n",
       "      <td>0.060119</td>\n",
       "      <td>0.058990</td>\n",
       "      <td>0.044877</td>\n",
       "    </tr>\n",
       "    <tr>\n",
       "      <td>4.0</td>\n",
       "      <td>0.012419</td>\n",
       "      <td>0.041773</td>\n",
       "      <td>0.040644</td>\n",
       "      <td>0.038103</td>\n",
       "      <td>0.025684</td>\n",
       "    </tr>\n",
       "  </tbody>\n",
       "</table>\n",
       "</div>"
      ],
      "text/plain": [
       "      Major_N     Oth_N  NoCrim_N    Prop_N     Vio_N\n",
       "0.0  0.707028  0.441716  0.384702  0.494214  0.642958\n",
       "1.0  0.177815  0.206605  0.210838  0.234547  0.160034\n",
       "2.0  0.065199  0.100762  0.112899  0.108947  0.075642\n",
       "3.0  0.027942  0.070279  0.060119  0.058990  0.044877\n",
       "4.0  0.012419  0.041773  0.040644  0.038103  0.025684"
      ]
     },
     "execution_count": 104,
     "metadata": {},
     "output_type": "execute_result"
    }
   ],
   "source": [
    "MajorN_pmf = ssr_df1['Major_N'].value_counts(normalize=True)    \n",
    "OthN_pmf = ssr_df1['Oth_N'].value_counts(normalize=True)                              \n",
    "NoCrimN_pmf = ssr_df1['NoCrim_N'].value_counts(normalize=True)                          \n",
    "PropN_pmf  = ssr_df1['Prop_N'].value_counts(normalize=True)                             \n",
    "VioN_pmf = ssr_df1['Vio_N'].value_counts(normalize=True)  \n",
    "\n",
    "pmfs = pd.concat([MajorN_pmf, OthN_pmf, NoCrimN_pmf, PropN_pmf, VioN_pmf], axis=1)\n",
    "\n",
    "pmfs.head()\n"
   ]
  },
  {
   "cell_type": "markdown",
   "metadata": {},
   "source": [
    "Calculating PMFs for all variables in dataset 2"
   ]
  },
  {
   "cell_type": "code",
   "execution_count": 82,
   "metadata": {
    "scrolled": true
   },
   "outputs": [
    {
     "data": {
      "text/html": [
       "<div>\n",
       "<style scoped>\n",
       "    .dataframe tbody tr th:only-of-type {\n",
       "        vertical-align: middle;\n",
       "    }\n",
       "\n",
       "    .dataframe tbody tr th {\n",
       "        vertical-align: top;\n",
       "    }\n",
       "\n",
       "    .dataframe thead th {\n",
       "        text-align: right;\n",
       "    }\n",
       "</style>\n",
       "<table border=\"1\" class=\"dataframe\">\n",
       "  <thead>\n",
       "    <tr style=\"text-align: right;\">\n",
       "      <th></th>\n",
       "      <th>Major_N</th>\n",
       "      <th>Oth_N</th>\n",
       "      <th>NoCrim_N</th>\n",
       "      <th>Prop_N</th>\n",
       "      <th>Vio_N</th>\n",
       "    </tr>\n",
       "  </thead>\n",
       "  <tbody>\n",
       "    <tr>\n",
       "      <td>0.0</td>\n",
       "      <td>0.744822</td>\n",
       "      <td>0.478873</td>\n",
       "      <td>0.353770</td>\n",
       "      <td>0.549296</td>\n",
       "      <td>0.652030</td>\n",
       "    </tr>\n",
       "    <tr>\n",
       "      <td>1.0</td>\n",
       "      <td>0.156587</td>\n",
       "      <td>0.211268</td>\n",
       "      <td>0.202983</td>\n",
       "      <td>0.241094</td>\n",
       "      <td>0.157415</td>\n",
       "    </tr>\n",
       "    <tr>\n",
       "      <td>2.0</td>\n",
       "      <td>0.063795</td>\n",
       "      <td>0.096106</td>\n",
       "      <td>0.110191</td>\n",
       "      <td>0.091135</td>\n",
       "      <td>0.080365</td>\n",
       "    </tr>\n",
       "    <tr>\n",
       "      <td>3.0</td>\n",
       "      <td>0.019056</td>\n",
       "      <td>0.067937</td>\n",
       "      <td>0.063795</td>\n",
       "      <td>0.043082</td>\n",
       "      <td>0.033140</td>\n",
       "    </tr>\n",
       "    <tr>\n",
       "      <td>4.0</td>\n",
       "      <td>0.009942</td>\n",
       "      <td>0.034797</td>\n",
       "      <td>0.062966</td>\n",
       "      <td>0.030655</td>\n",
       "      <td>0.024027</td>\n",
       "    </tr>\n",
       "  </tbody>\n",
       "</table>\n",
       "</div>"
      ],
      "text/plain": [
       "      Major_N     Oth_N  NoCrim_N    Prop_N     Vio_N\n",
       "0.0  0.744822  0.478873  0.353770  0.549296  0.652030\n",
       "1.0  0.156587  0.211268  0.202983  0.241094  0.157415\n",
       "2.0  0.063795  0.096106  0.110191  0.091135  0.080365\n",
       "3.0  0.019056  0.067937  0.063795  0.043082  0.033140\n",
       "4.0  0.009942  0.034797  0.062966  0.030655  0.024027"
      ]
     },
     "execution_count": 82,
     "metadata": {},
     "output_type": "execute_result"
    }
   ],
   "source": [
    "MajorN_pmf2 = ssr_df2['Major_N'].value_counts(normalize=True)    \n",
    "OthN_pmf2 = ssr_df2['Oth_N'].value_counts(normalize=True)                              \n",
    "NoCrimN_pmf2 = ssr_df2['NoCrim_N'].value_counts(normalize=True)                          \n",
    "PropN_pmf2  = ssr_df2['Prop_N'].value_counts(normalize=True)                             \n",
    "VioN_pmf2 = ssr_df2['Vio_N'].value_counts(normalize=True)  \n",
    "\n",
    "pmfs2 = pd.concat([MajorN_pmf2, OthN_pmf2, NoCrimN_pmf2, PropN_pmf2, VioN_pmf2], axis=1)\n",
    "\n",
    "pmfs2.head()"
   ]
  },
  {
   "cell_type": "markdown",
   "metadata": {},
   "source": [
    "Comparing PMFs for both datasets - they do not seem to be much different"
   ]
  },
  {
   "cell_type": "markdown",
   "metadata": {},
   "source": [
    "Plotting CDFs for variables of Dataset 1"
   ]
  },
  {
   "cell_type": "code",
   "execution_count": 105,
   "metadata": {},
   "outputs": [
    {
     "data": {
      "text/plain": [
       "Text(0.5, 0, 'x')"
      ]
     },
     "execution_count": 105,
     "metadata": {},
     "output_type": "execute_result"
    },
    {
     "data": {
      "image/png": "[encoded data removed]",
      "text/plain": [
       "<Figure size 432x288 with 1 Axes>"
      ]
     },
     "metadata": {
      "needs_background": "light"
     },
     "output_type": "display_data"
    }
   ],
   "source": [
    "ssr_df1.plot(y='Major_N', kind='hist', bins=1000, cumulative=True, normed=True)\n",
    "plt.xlabel('x')\n"
   ]
  },
  {
   "cell_type": "code",
   "execution_count": 106,
   "metadata": {},
   "outputs": [
    {
     "data": {
      "text/plain": [
       "Text(0.5, 0, 'x')"
      ]
     },
     "execution_count": 106,
     "metadata": {},
     "output_type": "execute_result"
    },
    {
     "data": {
      "image/png": "[encoded data removed]",
      "text/plain": [
       "<Figure size 432x288 with 1 Axes>"
      ]
     },
     "metadata": {
      "needs_background": "light"
     },
     "output_type": "display_data"
    }
   ],
   "source": [
    "ssr_df1.plot(y='Oth_N', kind='hist', bins=100, cumulative=True, normed=True)\n",
    "plt.xlabel('x')\n",
    "\n"
   ]
  },
  {
   "cell_type": "code",
   "execution_count": 107,
   "metadata": {},
   "outputs": [
    {
     "data": {
      "text/plain": [
       "Text(0.5, 0, 'x')"
      ]
     },
     "execution_count": 107,
     "metadata": {},
     "output_type": "execute_result"
    },
    {
     "data": {
      "image/png": "[encoded data removed]",
      "text/plain": [
       "<Figure size 432x288 with 1 Axes>"
      ]
     },
     "metadata": {
      "needs_background": "light"
     },
     "output_type": "display_data"
    }
   ],
   "source": [
    "ssr_df1.plot(y='NoCrim_N', kind='hist', bins=100, cumulative=True, normed=True)\n",
    "plt.xlabel('x')"
   ]
  },
  {
   "cell_type": "code",
   "execution_count": 108,
   "metadata": {},
   "outputs": [
    {
     "data": {
      "text/plain": [
       "Text(0.5, 0, 'x')"
      ]
     },
     "execution_count": 108,
     "metadata": {},
     "output_type": "execute_result"
    },
    {
     "data": {
      "image/png": "[encoded data removed]",
      "text/plain": [
       "<Figure size 432x288 with 1 Axes>"
      ]
     },
     "metadata": {
      "needs_background": "light"
     },
     "output_type": "display_data"
    }
   ],
   "source": [
    "ssr_df1.plot(y='Prop_N', kind='hist', bins=100, cumulative=True, normed=True)\n",
    "plt.xlabel('x')"
   ]
  },
  {
   "cell_type": "code",
   "execution_count": 109,
   "metadata": {},
   "outputs": [
    {
     "data": {
      "text/plain": [
       "Text(0.5, 0, 'x')"
      ]
     },
     "execution_count": 109,
     "metadata": {},
     "output_type": "execute_result"
    },
    {
     "data": {
      "image/png": "[encoded data removed]",
      "text/plain": [
       "<Figure size 432x288 with 1 Axes>"
      ]
     },
     "metadata": {
      "needs_background": "light"
     },
     "output_type": "display_data"
    }
   ],
   "source": [
    "ssr_df1.plot(y='Vio_N', kind='hist', bins=100, cumulative=True, normed=True)\n",
    "plt.xlabel('x')"
   ]
  },
  {
   "cell_type": "markdown",
   "metadata": {},
   "source": [
    "Comparing k - Brooklyn borough and Q - Queens borough values for analytical distribution"
   ]
  },
  {
   "cell_type": "code",
   "execution_count": 110,
   "metadata": {},
   "outputs": [],
   "source": [
    "k_borough = ssr_df1[ssr_df1['Borough']=='K']\n",
    "q_borough = ssr_df1[ssr_df1['Borough']=='Q']"
   ]
  },
  {
   "cell_type": "code",
   "execution_count": 111,
   "metadata": {},
   "outputs": [
    {
     "data": {
      "text/plain": [
       "1120"
      ]
     },
     "execution_count": 111,
     "metadata": {},
     "output_type": "execute_result"
    }
   ],
   "source": [
    "len(k_borough)"
   ]
  },
  {
   "cell_type": "code",
   "execution_count": 112,
   "metadata": {},
   "outputs": [
    {
     "data": {
      "text/plain": [
       "890"
      ]
     },
     "execution_count": 112,
     "metadata": {},
     "output_type": "execute_result"
    }
   ],
   "source": [
    "len(q_borough)"
   ]
  },
  {
   "cell_type": "code",
   "execution_count": 113,
   "metadata": {},
   "outputs": [],
   "source": [
    "k_series = k_borough['AvgOfMajor_N']"
   ]
  },
  {
   "cell_type": "code",
   "execution_count": 114,
   "metadata": {},
   "outputs": [],
   "source": [
    "q_series = q_borough['AvgOfMajor_N']"
   ]
  },
  {
   "cell_type": "code",
   "execution_count": 115,
   "metadata": {},
   "outputs": [
    {
     "data": {
      "text/plain": [
       "0    0.86\n",
       "1    0.52\n",
       "2    0.33\n",
       "3    0.35\n",
       "4    0.33\n",
       "Name: AvgOfMajor_N, dtype: float64"
      ]
     },
     "execution_count": 115,
     "metadata": {},
     "output_type": "execute_result"
    }
   ],
   "source": [
    "k_series.head()"
   ]
  },
  {
   "cell_type": "code",
   "execution_count": 116,
   "metadata": {},
   "outputs": [
    {
     "data": {
      "text/plain": [
       "26     0.33\n",
       "220    0.52\n",
       "256    0.33\n",
       "426    0.31\n",
       "504    0.35\n",
       "Name: AvgOfMajor_N, dtype: float64"
      ]
     },
     "execution_count": 116,
     "metadata": {},
     "output_type": "execute_result"
    }
   ],
   "source": [
    "q_series.head()"
   ]
  },
  {
   "cell_type": "markdown",
   "metadata": {},
   "source": [
    "Making a list"
   ]
  },
  {
   "cell_type": "code",
   "execution_count": 117,
   "metadata": {},
   "outputs": [],
   "source": [
    "k_list = k_borough['AvgOfMajor_N'].tolist() "
   ]
  },
  {
   "cell_type": "code",
   "execution_count": 118,
   "metadata": {},
   "outputs": [],
   "source": [
    "q_list = q_borough['AvgOfMajor_N'].tolist()"
   ]
  },
  {
   "cell_type": "markdown",
   "metadata": {},
   "source": [
    "Plotting PMFs of K and Q boroughs as an example of PMF plots shown in page 29 of Thinkstats book"
   ]
  },
  {
   "cell_type": "code",
   "execution_count": 120,
   "metadata": {},
   "outputs": [],
   "source": [
    "import thinkstats2 \n",
    "import thinkplot\n",
    "\n",
    "k_pmf = thinkstats2.Pmf(k_list)"
   ]
  },
  {
   "cell_type": "code",
   "execution_count": 121,
   "metadata": {},
   "outputs": [],
   "source": [
    "q_pmf = thinkstats2.Pmf(q_list)"
   ]
  },
  {
   "cell_type": "code",
   "execution_count": 46,
   "metadata": {},
   "outputs": [
    {
     "data": {
      "image/png": "[encoded data removed]",
      "text/plain": [
       "<Figure size 864x432 with 1 Axes>"
      ]
     },
     "metadata": {
      "needs_background": "light"
     },
     "output_type": "display_data"
    }
   ],
   "source": [
    "thinkplot.PrePlot(2, cols=2)\n",
    "thinkplot.Hist(k_pmf, align='right', width=0.8, label = 'K Boroughs')\n",
    "thinkplot.Hist(q_pmf, align='left', width=0.8, label = 'Q Boroughs')\n",
    "thinkplot.Config(xlabel='Major Crimes',\n",
    "                         ylabel='Probability',\n",
    "                         axis=[0, 5, 0, 0.2])"
   ]
  },
  {
   "cell_type": "markdown",
   "metadata": {},
   "source": [
    "Plotting CDFs of K and Q boroughs"
   ]
  },
  {
   "cell_type": "code",
   "execution_count": 122,
   "metadata": {},
   "outputs": [],
   "source": [
    "cdf = thinkstats2.Cdf(k_pmf, label='kboroughs')"
   ]
  },
  {
   "cell_type": "code",
   "execution_count": 123,
   "metadata": {},
   "outputs": [
    {
     "data": {
      "image/png": "[encoded data removed]",
      "text/plain": [
       "<Figure size 432x288 with 1 Axes>"
      ]
     },
     "metadata": {
      "needs_background": "light"
     },
     "output_type": "display_data"
    },
    {
     "data": {
      "text/plain": [
       "<Figure size 576x432 with 0 Axes>"
      ]
     },
     "metadata": {},
     "output_type": "display_data"
    }
   ],
   "source": [
    "thinkplot.Cdf(cdf)\n",
    "thinkplot.Show(xlabel='Major Crimes in K Borough', ylabel='CDF')"
   ]
  },
  {
   "cell_type": "code",
   "execution_count": 124,
   "metadata": {},
   "outputs": [
    {
     "data": {
      "image/png": "[encoded data removed]",
      "text/plain": [
       "<Figure size 432x288 with 1 Axes>"
      ]
     },
     "metadata": {
      "needs_background": "light"
     },
     "output_type": "display_data"
    },
    {
     "data": {
      "text/plain": [
       "<Figure size 576x432 with 0 Axes>"
      ]
     },
     "metadata": {},
     "output_type": "display_data"
    }
   ],
   "source": [
    "cdf = thinkstats2.Cdf(q_pmf, label='kboroughs')\n",
    "thinkplot.Cdf(cdf)\n",
    "thinkplot.Show(xlabel='Major Crimes in Q Borough', ylabel='CDF')"
   ]
  },
  {
   "cell_type": "markdown",
   "metadata": {},
   "source": [
    "Repeating the K and Q borough analysis for Dataset 2"
   ]
  },
  {
   "cell_type": "code",
   "execution_count": 128,
   "metadata": {},
   "outputs": [],
   "source": [
    "q_borough_2017 = ssr_df2[ssr_df2['Borough']=='Q']\n",
    "k_borough_2017 = ssr_df2[ssr_df2['Borough']=='K']"
   ]
  },
  {
   "cell_type": "code",
   "execution_count": 129,
   "metadata": {},
   "outputs": [],
   "source": [
    "k_list_2017 = k_borough_2017['AvgOfMajor_N'].tolist() \n",
    "q_list_2017 = q_borough_2017['AvgOfMajor_N'].tolist()"
   ]
  },
  {
   "cell_type": "code",
   "execution_count": 130,
   "metadata": {},
   "outputs": [],
   "source": [
    "k_pmf_2017 = thinkstats2.Pmf(k_list_2017)\n",
    "q_pmf_2017 = thinkstats2.Pmf(q_list_2017)"
   ]
  },
  {
   "cell_type": "code",
   "execution_count": 131,
   "metadata": {},
   "outputs": [
    {
     "data": {
      "image/png": "[encoded data removed]",
      "text/plain": [
       "<Figure size 864x432 with 1 Axes>"
      ]
     },
     "metadata": {
      "needs_background": "light"
     },
     "output_type": "display_data"
    }
   ],
   "source": [
    "thinkplot.PrePlot(2, cols=2)\n",
    "thinkplot.Hist(k_pmf_2017, align='right', width=0.8, label = 'K Boroughs 2017')\n",
    "thinkplot.Hist(q_pmf_2017, align='left', width=0.8, label = 'Q Boroughs 2017')\n",
    "thinkplot.Config(xlabel='Major Crimes',\n",
    "                         ylabel='Probability',\n",
    "                         axis=[0, 5, 0, 0.2])"
   ]
  },
  {
   "cell_type": "markdown",
   "metadata": {},
   "source": [
    "Plotting PMFs of K boroughs of datasets 1 and 2 for comparision"
   ]
  },
  {
   "cell_type": "code",
   "execution_count": 132,
   "metadata": {},
   "outputs": [
    {
     "data": {
      "image/png": "[encoded data removed]",
      "text/plain": [
       "<Figure size 864x432 with 1 Axes>"
      ]
     },
     "metadata": {
      "needs_background": "light"
     },
     "output_type": "display_data"
    }
   ],
   "source": [
    "thinkplot.PrePlot(2, cols=2)\n",
    "thinkplot.Hist(k_pmf_2017, align='right', width=0.8, label = 'K Boroughs 2017', color = 'red')\n",
    "thinkplot.Hist(k_pmf, align='left', width=0.8, label = 'K Boroughs 2010 - 2016', color = 'tan')\n",
    "thinkplot.Config(xlabel='Major Crimes',\n",
    "                         ylabel='Probability',\n",
    "                         axis=[0, 5, 0, 0.2])"
   ]
  },
  {
   "cell_type": "markdown",
   "metadata": {},
   "source": [
    "It is evident that the 2017 has high probability of '0' cases reported for K borough compared to 2010-2016 dataset "
   ]
  },
  {
   "cell_type": "markdown",
   "metadata": {},
   "source": [
    "Plotting PMFs of Q boroughs of datasets 1 and 2 for comparision"
   ]
  },
  {
   "cell_type": "code",
   "execution_count": 134,
   "metadata": {},
   "outputs": [
    {
     "data": {
      "image/png": "[encoded data removed]",
      "text/plain": [
       "<Figure size 864x432 with 1 Axes>"
      ]
     },
     "metadata": {
      "needs_background": "light"
     },
     "output_type": "display_data"
    }
   ],
   "source": [
    "thinkplot.PrePlot(2, cols=2)\n",
    "thinkplot.Hist(q_pmf_2017, align='right', width=0.8, label = 'Q Boroughs 2017', color = 'red')\n",
    "thinkplot.Hist(q_pmf, align='left', width=0.8, label = 'Q Boroughs 2010 - 2016', color = 'tan')\n",
    "thinkplot.Config(xlabel='Major Crimes',\n",
    "                         ylabel='Probability',\n",
    "                         axis=[0, 5, 0, 0.2])"
   ]
  },
  {
   "cell_type": "markdown",
   "metadata": {},
   "source": [
    "It is evident that the 2017 has high probability of '0' cases reported for Q borough compared to 2010-2016 dataset "
   ]
  },
  {
   "cell_type": "markdown",
   "metadata": {},
   "source": [
    "Plotting CDFs of K and Q boroughs of dataset 1"
   ]
  },
  {
   "cell_type": "code",
   "execution_count": 138,
   "metadata": {},
   "outputs": [],
   "source": [
    "cdf_2016 = thinkstats2.Cdf(k_pmf, label='k boroughs')"
   ]
  },
  {
   "cell_type": "code",
   "execution_count": 139,
   "metadata": {},
   "outputs": [
    {
     "data": {
      "image/png": "[encoded data removed]",
      "text/plain": [
       "<Figure size 432x288 with 1 Axes>"
      ]
     },
     "metadata": {
      "needs_background": "light"
     },
     "output_type": "display_data"
    },
    {
     "data": {
      "text/plain": [
       "<Figure size 576x432 with 0 Axes>"
      ]
     },
     "metadata": {},
     "output_type": "display_data"
    }
   ],
   "source": [
    "thinkplot.Cdf(cdf_2016)\n",
    "thinkplot.Show(xlabel='Major Crimes in K Borough', ylabel='CDF')"
   ]
  },
  {
   "cell_type": "code",
   "execution_count": 140,
   "metadata": {},
   "outputs": [
    {
     "data": {
      "image/png": "[encoded data removed]",
      "text/plain": [
       "<Figure size 432x288 with 1 Axes>"
      ]
     },
     "metadata": {
      "needs_background": "light"
     },
     "output_type": "display_data"
    },
    {
     "data": {
      "text/plain": [
       "<Figure size 576x432 with 0 Axes>"
      ]
     },
     "metadata": {},
     "output_type": "display_data"
    }
   ],
   "source": [
    "cdf = thinkstats2.Cdf(q_pmf, label='q boroughs')\n",
    "thinkplot.Cdf(cdf)\n",
    "thinkplot.Show(xlabel='Major Crimes in Q Borough', ylabel='CDF')"
   ]
  },
  {
   "cell_type": "markdown",
   "metadata": {},
   "source": [
    "Plotting CDFs of K and Q boroughs of dataset 2"
   ]
  },
  {
   "cell_type": "code",
   "execution_count": 58,
   "metadata": {},
   "outputs": [
    {
     "data": {
      "image/png": "[encoded data removed]",
      "text/plain": [
       "<Figure size 432x288 with 1 Axes>"
      ]
     },
     "metadata": {
      "needs_background": "light"
     },
     "output_type": "display_data"
    },
    {
     "data": {
      "text/plain": [
       "<Figure size 576x432 with 0 Axes>"
      ]
     },
     "metadata": {},
     "output_type": "display_data"
    }
   ],
   "source": [
    "cdf_2017 = thinkstats2.Cdf(k_pmf_2017, label='kboroughs_2017')\n",
    "thinkplot.Cdf(cdf_2017)\n",
    "thinkplot.Show(xlabel='Major Crimes in K Borough', ylabel='CDF')"
   ]
  },
  {
   "cell_type": "code",
   "execution_count": 141,
   "metadata": {},
   "outputs": [
    {
     "data": {
      "image/png": "[encoded data removed]",
      "text/plain": [
       "<Figure size 432x288 with 1 Axes>"
      ]
     },
     "metadata": {
      "needs_background": "light"
     },
     "output_type": "display_data"
    },
    {
     "data": {
      "text/plain": [
       "<Figure size 576x432 with 0 Axes>"
      ]
     },
     "metadata": {},
     "output_type": "display_data"
    }
   ],
   "source": [
    "cdf = thinkstats2.Cdf(q_pmf_2017, label='q boroughs 2017')\n",
    "thinkplot.Cdf(cdf_2017)\n",
    "thinkplot.Show(xlabel='Major Crimes in Q Borough', ylabel='CDF')"
   ]
  },
  {
   "cell_type": "markdown",
   "metadata": {},
   "source": [
    "Comparing CDFs of dataset 1 and 2"
   ]
  },
  {
   "cell_type": "code",
   "execution_count": 59,
   "metadata": {},
   "outputs": [
    {
     "data": {
      "image/png": "[encoded data removed]",
      "text/plain": [
       "<Figure size 432x288 with 1 Axes>"
      ]
     },
     "metadata": {
      "needs_background": "light"
     },
     "output_type": "display_data"
    },
    {
     "data": {
      "text/plain": [
       "<Figure size 576x432 with 0 Axes>"
      ]
     },
     "metadata": {},
     "output_type": "display_data"
    }
   ],
   "source": [
    "thinkplot.PrePlot(2)\n",
    "thinkplot.Cdfs([cdf, cdf_2017])\n",
    "thinkplot.Show(xlabel='Major Crimes in K Borough', ylabel='CDF')"
   ]
  },
  {
   "cell_type": "markdown",
   "metadata": {},
   "source": [
    "Calculating min, max and mean of Boroughs in dataset 1"
   ]
  },
  {
   "cell_type": "code",
   "execution_count": 142,
   "metadata": {},
   "outputs": [
    {
     "data": {
      "text/html": [
       "<div>\n",
       "<style scoped>\n",
       "    .dataframe tbody tr th:only-of-type {\n",
       "        vertical-align: middle;\n",
       "    }\n",
       "\n",
       "    .dataframe tbody tr th {\n",
       "        vertical-align: top;\n",
       "    }\n",
       "\n",
       "    .dataframe thead tr th {\n",
       "        text-align: left;\n",
       "    }\n",
       "\n",
       "    .dataframe thead tr:last-of-type th {\n",
       "        text-align: right;\n",
       "    }\n",
       "</style>\n",
       "<table border=\"1\" class=\"dataframe\">\n",
       "  <thead>\n",
       "    <tr>\n",
       "      <th></th>\n",
       "      <th colspan=\"3\" halign=\"left\">AvgOfMajor_N</th>\n",
       "    </tr>\n",
       "    <tr>\n",
       "      <th></th>\n",
       "      <th>min</th>\n",
       "      <th>max</th>\n",
       "      <th>mean</th>\n",
       "    </tr>\n",
       "    <tr>\n",
       "      <th>Borough</th>\n",
       "      <th></th>\n",
       "      <th></th>\n",
       "      <th></th>\n",
       "    </tr>\n",
       "  </thead>\n",
       "  <tbody>\n",
       "    <tr>\n",
       "      <td>K</td>\n",
       "      <td>0.24</td>\n",
       "      <td>3.33</td>\n",
       "      <td>0.454321</td>\n",
       "    </tr>\n",
       "    <tr>\n",
       "      <td>M</td>\n",
       "      <td>0.24</td>\n",
       "      <td>3.33</td>\n",
       "      <td>0.482455</td>\n",
       "    </tr>\n",
       "    <tr>\n",
       "      <td>O</td>\n",
       "      <td>0.28</td>\n",
       "      <td>0.43</td>\n",
       "      <td>0.346000</td>\n",
       "    </tr>\n",
       "    <tr>\n",
       "      <td>Q</td>\n",
       "      <td>0.24</td>\n",
       "      <td>3.33</td>\n",
       "      <td>0.544955</td>\n",
       "    </tr>\n",
       "    <tr>\n",
       "      <td>R</td>\n",
       "      <td>0.24</td>\n",
       "      <td>3.33</td>\n",
       "      <td>0.519714</td>\n",
       "    </tr>\n",
       "    <tr>\n",
       "      <td>X</td>\n",
       "      <td>0.24</td>\n",
       "      <td>3.33</td>\n",
       "      <td>0.529114</td>\n",
       "    </tr>\n",
       "  </tbody>\n",
       "</table>\n",
       "</div>"
      ],
      "text/plain": [
       "        AvgOfMajor_N                \n",
       "                 min   max      mean\n",
       "Borough                             \n",
       "K               0.24  3.33  0.454321\n",
       "M               0.24  3.33  0.482455\n",
       "O               0.28  0.43  0.346000\n",
       "Q               0.24  3.33  0.544955\n",
       "R               0.24  3.33  0.519714\n",
       "X               0.24  3.33  0.529114"
      ]
     },
     "execution_count": 142,
     "metadata": {},
     "output_type": "execute_result"
    }
   ],
   "source": [
    "ssr_df1.groupby('Borough').agg({'AvgOfMajor_N':['min', 'max', 'mean']})\n",
    "\n"
   ]
  },
  {
   "cell_type": "markdown",
   "metadata": {},
   "source": [
    "Calculating min, max and mean of Boroughs in dataset 1 separated by School Year"
   ]
  },
  {
   "cell_type": "code",
   "execution_count": 143,
   "metadata": {},
   "outputs": [
    {
     "data": {
      "text/html": [
       "<div>\n",
       "<style scoped>\n",
       "    .dataframe tbody tr th:only-of-type {\n",
       "        vertical-align: middle;\n",
       "    }\n",
       "\n",
       "    .dataframe tbody tr th {\n",
       "        vertical-align: top;\n",
       "    }\n",
       "\n",
       "    .dataframe thead tr th {\n",
       "        text-align: left;\n",
       "    }\n",
       "\n",
       "    .dataframe thead tr:last-of-type th {\n",
       "        text-align: right;\n",
       "    }\n",
       "</style>\n",
       "<table border=\"1\" class=\"dataframe\">\n",
       "  <thead>\n",
       "    <tr>\n",
       "      <th></th>\n",
       "      <th></th>\n",
       "      <th colspan=\"3\" halign=\"left\">AvgOfMajor_N</th>\n",
       "    </tr>\n",
       "    <tr>\n",
       "      <th></th>\n",
       "      <th></th>\n",
       "      <th>min</th>\n",
       "      <th>max</th>\n",
       "      <th>mean</th>\n",
       "    </tr>\n",
       "    <tr>\n",
       "      <th>School_Year</th>\n",
       "      <th>Borough</th>\n",
       "      <th></th>\n",
       "      <th></th>\n",
       "      <th></th>\n",
       "    </tr>\n",
       "  </thead>\n",
       "  <tbody>\n",
       "    <tr>\n",
       "      <td rowspan=\"6\" valign=\"top\">2013-14</td>\n",
       "      <td>K</td>\n",
       "      <td>0.33</td>\n",
       "      <td>2.93</td>\n",
       "      <td>0.506270</td>\n",
       "    </tr>\n",
       "    <tr>\n",
       "      <td>M</td>\n",
       "      <td>0.33</td>\n",
       "      <td>2.93</td>\n",
       "      <td>0.542970</td>\n",
       "    </tr>\n",
       "    <tr>\n",
       "      <td>O</td>\n",
       "      <td>0.35</td>\n",
       "      <td>0.43</td>\n",
       "      <td>0.390000</td>\n",
       "    </tr>\n",
       "    <tr>\n",
       "      <td>Q</td>\n",
       "      <td>0.33</td>\n",
       "      <td>2.93</td>\n",
       "      <td>0.605374</td>\n",
       "    </tr>\n",
       "    <tr>\n",
       "      <td>R</td>\n",
       "      <td>0.33</td>\n",
       "      <td>2.93</td>\n",
       "      <td>0.574000</td>\n",
       "    </tr>\n",
       "    <tr>\n",
       "      <td>X</td>\n",
       "      <td>0.33</td>\n",
       "      <td>2.93</td>\n",
       "      <td>0.570506</td>\n",
       "    </tr>\n",
       "    <tr>\n",
       "      <td rowspan=\"6\" valign=\"top\">2014-15</td>\n",
       "      <td>K</td>\n",
       "      <td>0.27</td>\n",
       "      <td>3.33</td>\n",
       "      <td>0.472594</td>\n",
       "    </tr>\n",
       "    <tr>\n",
       "      <td>M</td>\n",
       "      <td>0.27</td>\n",
       "      <td>3.33</td>\n",
       "      <td>0.477376</td>\n",
       "    </tr>\n",
       "    <tr>\n",
       "      <td>O</td>\n",
       "      <td>0.31</td>\n",
       "      <td>0.36</td>\n",
       "      <td>0.335000</td>\n",
       "    </tr>\n",
       "    <tr>\n",
       "      <td>Q</td>\n",
       "      <td>0.27</td>\n",
       "      <td>3.33</td>\n",
       "      <td>0.559365</td>\n",
       "    </tr>\n",
       "    <tr>\n",
       "      <td>R</td>\n",
       "      <td>0.27</td>\n",
       "      <td>3.33</td>\n",
       "      <td>0.530857</td>\n",
       "    </tr>\n",
       "    <tr>\n",
       "      <td>X</td>\n",
       "      <td>0.27</td>\n",
       "      <td>3.33</td>\n",
       "      <td>0.536540</td>\n",
       "    </tr>\n",
       "    <tr>\n",
       "      <td rowspan=\"6\" valign=\"top\">2015-16</td>\n",
       "      <td>K</td>\n",
       "      <td>0.24</td>\n",
       "      <td>1.69</td>\n",
       "      <td>0.385027</td>\n",
       "    </tr>\n",
       "    <tr>\n",
       "      <td>M</td>\n",
       "      <td>0.24</td>\n",
       "      <td>3.14</td>\n",
       "      <td>0.427291</td>\n",
       "    </tr>\n",
       "    <tr>\n",
       "      <td>O</td>\n",
       "      <td>0.28</td>\n",
       "      <td>0.28</td>\n",
       "      <td>0.280000</td>\n",
       "    </tr>\n",
       "    <tr>\n",
       "      <td>Q</td>\n",
       "      <td>0.24</td>\n",
       "      <td>3.14</td>\n",
       "      <td>0.470640</td>\n",
       "    </tr>\n",
       "    <tr>\n",
       "      <td>R</td>\n",
       "      <td>0.24</td>\n",
       "      <td>3.14</td>\n",
       "      <td>0.454286</td>\n",
       "    </tr>\n",
       "    <tr>\n",
       "      <td>X</td>\n",
       "      <td>0.24</td>\n",
       "      <td>3.14</td>\n",
       "      <td>0.480295</td>\n",
       "    </tr>\n",
       "  </tbody>\n",
       "</table>\n",
       "</div>"
      ],
      "text/plain": [
       "                    AvgOfMajor_N                \n",
       "                             min   max      mean\n",
       "School_Year Borough                             \n",
       "2013-14     K               0.33  2.93  0.506270\n",
       "            M               0.33  2.93  0.542970\n",
       "            O               0.35  0.43  0.390000\n",
       "            Q               0.33  2.93  0.605374\n",
       "            R               0.33  2.93  0.574000\n",
       "            X               0.33  2.93  0.570506\n",
       "2014-15     K               0.27  3.33  0.472594\n",
       "            M               0.27  3.33  0.477376\n",
       "            O               0.31  0.36  0.335000\n",
       "            Q               0.27  3.33  0.559365\n",
       "            R               0.27  3.33  0.530857\n",
       "            X               0.27  3.33  0.536540\n",
       "2015-16     K               0.24  1.69  0.385027\n",
       "            M               0.24  3.14  0.427291\n",
       "            O               0.28  0.28  0.280000\n",
       "            Q               0.24  3.14  0.470640\n",
       "            R               0.24  3.14  0.454286\n",
       "            X               0.24  3.14  0.480295"
      ]
     },
     "execution_count": 143,
     "metadata": {},
     "output_type": "execute_result"
    }
   ],
   "source": [
    "ssr_df1.groupby(['School_Year', 'Borough']).agg({'AvgOfMajor_N':['min', 'max', 'mean']})\n"
   ]
  },
  {
   "cell_type": "markdown",
   "metadata": {},
   "source": [
    "Calculating min, max and mean of Boroughs in dataset 2 for the year 2016 -2017"
   ]
  },
  {
   "cell_type": "code",
   "execution_count": 61,
   "metadata": {
    "scrolled": false
   },
   "outputs": [
    {
     "data": {
      "text/html": [
       "<div>\n",
       "<style scoped>\n",
       "    .dataframe tbody tr th:only-of-type {\n",
       "        vertical-align: middle;\n",
       "    }\n",
       "\n",
       "    .dataframe tbody tr th {\n",
       "        vertical-align: top;\n",
       "    }\n",
       "\n",
       "    .dataframe thead tr th {\n",
       "        text-align: left;\n",
       "    }\n",
       "\n",
       "    .dataframe thead tr:last-of-type th {\n",
       "        text-align: right;\n",
       "    }\n",
       "</style>\n",
       "<table border=\"1\" class=\"dataframe\">\n",
       "  <thead>\n",
       "    <tr>\n",
       "      <th></th>\n",
       "      <th colspan=\"3\" halign=\"left\">AvgOfMajor_N</th>\n",
       "    </tr>\n",
       "    <tr>\n",
       "      <th></th>\n",
       "      <th>min</th>\n",
       "      <th>max</th>\n",
       "      <th>mean</th>\n",
       "    </tr>\n",
       "    <tr>\n",
       "      <th>Borough</th>\n",
       "      <th></th>\n",
       "      <th></th>\n",
       "      <th></th>\n",
       "    </tr>\n",
       "  </thead>\n",
       "  <tbody>\n",
       "    <tr>\n",
       "      <td>K</td>\n",
       "      <td>0.24</td>\n",
       "      <td>1.69</td>\n",
       "      <td>0.396404</td>\n",
       "    </tr>\n",
       "    <tr>\n",
       "      <td>M</td>\n",
       "      <td>0.24</td>\n",
       "      <td>3.14</td>\n",
       "      <td>0.437596</td>\n",
       "    </tr>\n",
       "    <tr>\n",
       "      <td>O</td>\n",
       "      <td>0.28</td>\n",
       "      <td>0.28</td>\n",
       "      <td>0.280000</td>\n",
       "    </tr>\n",
       "    <tr>\n",
       "      <td>Q</td>\n",
       "      <td>0.24</td>\n",
       "      <td>3.14</td>\n",
       "      <td>0.473246</td>\n",
       "    </tr>\n",
       "    <tr>\n",
       "      <td>R</td>\n",
       "      <td>0.24</td>\n",
       "      <td>3.14</td>\n",
       "      <td>0.452535</td>\n",
       "    </tr>\n",
       "    <tr>\n",
       "      <td>X</td>\n",
       "      <td>0.24</td>\n",
       "      <td>3.14</td>\n",
       "      <td>0.468714</td>\n",
       "    </tr>\n",
       "  </tbody>\n",
       "</table>\n",
       "</div>"
      ],
      "text/plain": [
       "        AvgOfMajor_N                \n",
       "                 min   max      mean\n",
       "Borough                             \n",
       "K               0.24  1.69  0.396404\n",
       "M               0.24  3.14  0.437596\n",
       "O               0.28  0.28  0.280000\n",
       "Q               0.24  3.14  0.473246\n",
       "R               0.24  3.14  0.452535\n",
       "X               0.24  3.14  0.468714"
      ]
     },
     "execution_count": 61,
     "metadata": {},
     "output_type": "execute_result"
    }
   ],
   "source": [
    "ssr_df2.groupby('Borough').agg({'AvgOfMajor_N':['min', 'max', 'mean']})\n"
   ]
  },
  {
   "cell_type": "markdown",
   "metadata": {},
   "source": [
    "Calculating min, max and mean of School Year in dataset 1"
   ]
  },
  {
   "cell_type": "code",
   "execution_count": 81,
   "metadata": {},
   "outputs": [
    {
     "data": {
      "text/html": [
       "<div>\n",
       "<style scoped>\n",
       "    .dataframe tbody tr th:only-of-type {\n",
       "        vertical-align: middle;\n",
       "    }\n",
       "\n",
       "    .dataframe tbody tr th {\n",
       "        vertical-align: top;\n",
       "    }\n",
       "\n",
       "    .dataframe thead tr th {\n",
       "        text-align: left;\n",
       "    }\n",
       "\n",
       "    .dataframe thead tr:last-of-type th {\n",
       "        text-align: right;\n",
       "    }\n",
       "</style>\n",
       "<table border=\"1\" class=\"dataframe\">\n",
       "  <thead>\n",
       "    <tr>\n",
       "      <th></th>\n",
       "      <th colspan=\"3\" halign=\"left\">AvgOfMajor_N</th>\n",
       "    </tr>\n",
       "    <tr>\n",
       "      <th></th>\n",
       "      <th>min</th>\n",
       "      <th>max</th>\n",
       "      <th>mean</th>\n",
       "    </tr>\n",
       "    <tr>\n",
       "      <th>School_Year</th>\n",
       "      <th></th>\n",
       "      <th></th>\n",
       "      <th></th>\n",
       "    </tr>\n",
       "  </thead>\n",
       "  <tbody>\n",
       "    <tr>\n",
       "      <td>2013-14</td>\n",
       "      <td>0.33</td>\n",
       "      <td>2.93</td>\n",
       "      <td>0.554170</td>\n",
       "    </tr>\n",
       "    <tr>\n",
       "      <td>2014-15</td>\n",
       "      <td>0.27</td>\n",
       "      <td>3.33</td>\n",
       "      <td>0.511334</td>\n",
       "    </tr>\n",
       "    <tr>\n",
       "      <td>2015-16</td>\n",
       "      <td>0.24</td>\n",
       "      <td>3.14</td>\n",
       "      <td>0.436824</td>\n",
       "    </tr>\n",
       "  </tbody>\n",
       "</table>\n",
       "</div>"
      ],
      "text/plain": [
       "            AvgOfMajor_N                \n",
       "                     min   max      mean\n",
       "School_Year                             \n",
       "2013-14             0.33  2.93  0.554170\n",
       "2014-15             0.27  3.33  0.511334\n",
       "2015-16             0.24  3.14  0.436824"
      ]
     },
     "execution_count": 81,
     "metadata": {},
     "output_type": "execute_result"
    }
   ],
   "source": [
    "ssr_df1.groupby(['School_Year']).agg({'AvgOfMajor_N':['min', 'max', 'mean']})\n",
    "\n"
   ]
  },
  {
   "cell_type": "markdown",
   "metadata": {},
   "source": [
    "Calculating min, max and mean of School Year in dataset 2"
   ]
  },
  {
   "cell_type": "code",
   "execution_count": 144,
   "metadata": {},
   "outputs": [
    {
     "data": {
      "text/html": [
       "<div>\n",
       "<style scoped>\n",
       "    .dataframe tbody tr th:only-of-type {\n",
       "        vertical-align: middle;\n",
       "    }\n",
       "\n",
       "    .dataframe tbody tr th {\n",
       "        vertical-align: top;\n",
       "    }\n",
       "\n",
       "    .dataframe thead tr th {\n",
       "        text-align: left;\n",
       "    }\n",
       "\n",
       "    .dataframe thead tr:last-of-type th {\n",
       "        text-align: right;\n",
       "    }\n",
       "</style>\n",
       "<table border=\"1\" class=\"dataframe\">\n",
       "  <thead>\n",
       "    <tr>\n",
       "      <th></th>\n",
       "      <th colspan=\"3\" halign=\"left\">AvgOfMajor_N</th>\n",
       "    </tr>\n",
       "    <tr>\n",
       "      <th></th>\n",
       "      <th>min</th>\n",
       "      <th>max</th>\n",
       "      <th>mean</th>\n",
       "    </tr>\n",
       "    <tr>\n",
       "      <th>School_Year</th>\n",
       "      <th></th>\n",
       "      <th></th>\n",
       "      <th></th>\n",
       "    </tr>\n",
       "  </thead>\n",
       "  <tbody>\n",
       "    <tr>\n",
       "      <td>2016 - 17</td>\n",
       "      <td>0.24</td>\n",
       "      <td>3.14</td>\n",
       "      <td>0.440563</td>\n",
       "    </tr>\n",
       "  </tbody>\n",
       "</table>\n",
       "</div>"
      ],
      "text/plain": [
       "            AvgOfMajor_N                \n",
       "                     min   max      mean\n",
       "School_Year                             \n",
       "2016 - 17           0.24  3.14  0.440563"
      ]
     },
     "execution_count": 144,
     "metadata": {},
     "output_type": "execute_result"
    }
   ],
   "source": [
    "ssr_df2.groupby(['School_Year']).agg({'AvgOfMajor_N':['min', 'max', 'mean']})\n",
    "\n"
   ]
  },
  {
   "cell_type": "markdown",
   "metadata": {},
   "source": [
    "The mean of 'average major crimes reported' for school year 2016-17 is lower compared to 2013-14, 2014-15 and almost the same as 2015-16. Which suggests that the 'average major crimes reported' decreased from 2013 to 2017. "
   ]
  },
  {
   "cell_type": "markdown",
   "metadata": {},
   "source": [
    "Scatter plot of two variables of dataset 1"
   ]
  },
  {
   "cell_type": "code",
   "execution_count": 145,
   "metadata": {},
   "outputs": [
    {
     "data": {
      "text/plain": [
       "<matplotlib.axes._subplots.AxesSubplot at 0x1a2440c1d0>"
      ]
     },
     "execution_count": 145,
     "metadata": {},
     "output_type": "execute_result"
    },
    {
     "data": {
      "image/png": "[encoded data removed]",
      "text/plain": [
       "<Figure size 432x288 with 1 Axes>"
      ]
     },
     "metadata": {
      "needs_background": "light"
     },
     "output_type": "display_data"
    }
   ],
   "source": [
    "ssr_df1.plot.scatter('AvgOfMajor_N', 'AvgOfOth_N')"
   ]
  },
  {
   "cell_type": "markdown",
   "metadata": {},
   "source": [
    "Scatter plot of two variables of dataset 2"
   ]
  },
  {
   "cell_type": "code",
   "execution_count": 146,
   "metadata": {},
   "outputs": [
    {
     "data": {
      "text/plain": [
       "<matplotlib.axes._subplots.AxesSubplot at 0x1a2482b110>"
      ]
     },
     "execution_count": 146,
     "metadata": {},
     "output_type": "execute_result"
    },
    {
     "data": {
      "image/png": "[encoded data removed]",
      "text/plain": [
       "<Figure size 432x288 with 1 Axes>"
      ]
     },
     "metadata": {
      "needs_background": "light"
     },
     "output_type": "display_data"
    }
   ],
   "source": [
    "ssr_df2.plot.scatter('AvgOfMajor_N', 'AvgOfOth_N')"
   ]
  },
  {
   "cell_type": "code",
   "execution_count": 65,
   "metadata": {},
   "outputs": [
    {
     "data": {
      "text/plain": [
       "<seaborn.axisgrid.FacetGrid at 0x1a20dde910>"
      ]
     },
     "execution_count": 65,
     "metadata": {},
     "output_type": "execute_result"
    },
    {
     "data": {
      "image/png": "[encoded data removed]",
      "text/plain": [
       "<Figure size 360x360 with 1 Axes>"
      ]
     },
     "metadata": {
      "needs_background": "light"
     },
     "output_type": "display_data"
    }
   ],
   "source": [
    "sns.lmplot(x='AvgOfMajor_N',y='AvgOfOth_N',data=ssr_df1,fit_reg=True)"
   ]
  },
  {
   "cell_type": "markdown",
   "metadata": {},
   "source": [
    "Covariance of two variables of dataset 1"
   ]
  },
  {
   "cell_type": "code",
   "execution_count": 147,
   "metadata": {},
   "outputs": [],
   "source": [
    "from numpy import cov\n",
    "covariance = cov(ssr_df1['AvgOfMajor_N'], ssr_df1['AvgOfOth_N'])"
   ]
  },
  {
   "cell_type": "code",
   "execution_count": 148,
   "metadata": {},
   "outputs": [
    {
     "data": {
      "text/plain": [
       "array([[0.17358799, 0.70881688],\n",
       "       [0.70881688, 3.10309053]])"
      ]
     },
     "execution_count": 148,
     "metadata": {},
     "output_type": "execute_result"
    }
   ],
   "source": [
    "covariance"
   ]
  },
  {
   "cell_type": "markdown",
   "metadata": {},
   "source": [
    "Correlation of two variables of dataset 1"
   ]
  },
  {
   "cell_type": "code",
   "execution_count": 149,
   "metadata": {},
   "outputs": [],
   "source": [
    "from scipy.stats import pearsonr\n",
    "corr, _ = pearsonr(ssr_df1['AvgOfMajor_N'], ssr_df1['AvgOfOth_N'])"
   ]
  },
  {
   "cell_type": "code",
   "execution_count": 72,
   "metadata": {},
   "outputs": [
    {
     "name": "stdout",
     "output_type": "stream",
     "text": [
      "Pearsons correlation: 0.966\n"
     ]
    }
   ],
   "source": [
    "print('Pearsons correlation: %.3f' % corr)"
   ]
  },
  {
   "cell_type": "markdown",
   "metadata": {},
   "source": [
    "Pearson's correlation value suggests that there is a strong positive correlation between two variables"
   ]
  },
  {
   "cell_type": "markdown",
   "metadata": {},
   "source": [
    "Plotting histograms of AvgofMajor_N "
   ]
  },
  {
   "cell_type": "code",
   "execution_count": 150,
   "metadata": {},
   "outputs": [
    {
     "data": {
      "text/plain": [
       "Text(0, 0.5, 'Frequency')"
      ]
     },
     "execution_count": 150,
     "metadata": {},
     "output_type": "execute_result"
    },
    {
     "data": {
      "image/png": "[encoded data removed]",
      "text/plain": [
       "<Figure size 432x288 with 1 Axes>"
      ]
     },
     "metadata": {
      "needs_background": "light"
     },
     "output_type": "display_data"
    }
   ],
   "source": [
    "import matplotlib.pyplot as plt\n",
    "sns.distplot(ssr_df1['AvgOfMajor_N'], hist=True, kde=False, \n",
    "             bins=int(180/5), color = 'blue',\n",
    "             hist_kws={'edgecolor':'black'})\n",
    "# Add labels\n",
    "plt.title('Histogram of Avg Major Crimes')\n",
    "plt.xlabel('Crimes')\n",
    "plt.ylabel('Frequency')"
   ]
  },
  {
   "cell_type": "code",
   "execution_count": 151,
   "metadata": {},
   "outputs": [
    {
     "data": {
      "text/plain": [
       "<matplotlib.axes._subplots.AxesSubplot at 0x1a24b3e050>"
      ]
     },
     "execution_count": 151,
     "metadata": {},
     "output_type": "execute_result"
    },
    {
     "data": {
      "image/png": "[encoded data removed]",
      "text/plain": [
       "<Figure size 432x288 with 1 Axes>"
      ]
     },
     "metadata": {
      "needs_background": "light"
     },
     "output_type": "display_data"
    }
   ],
   "source": [
    "# Density Plot on the histogram\n",
    "sns.distplot(ssr_df1['AvgOfMajor_N'], hist=True, kde=True, \n",
    "             bins=int(180/5), color = 'darkblue', \n",
    "             hist_kws={'edgecolor':'black'},\n",
    "             kde_kws={'linewidth': 4})"
   ]
  },
  {
   "cell_type": "markdown",
   "metadata": {},
   "source": [
    "Testing the null hypothesis "
   ]
  },
  {
   "cell_type": "code",
   "execution_count": 156,
   "metadata": {},
   "outputs": [],
   "source": [
    "ssr_df1['All_crimes'] = ssr_df1['Major_N'] + ssr_df1['Oth_N'] + ssr_df1['NoCrim_N'] + ssr_df1['Prop_N'] + ssr_df1['Vio_N']\n"
   ]
  },
  {
   "cell_type": "code",
   "execution_count": 157,
   "metadata": {},
   "outputs": [
    {
     "data": {
      "text/html": [
       "<div>\n",
       "<style scoped>\n",
       "    .dataframe tbody tr th:only-of-type {\n",
       "        vertical-align: middle;\n",
       "    }\n",
       "\n",
       "    .dataframe tbody tr th {\n",
       "        vertical-align: top;\n",
       "    }\n",
       "\n",
       "    .dataframe thead th {\n",
       "        text-align: right;\n",
       "    }\n",
       "</style>\n",
       "<table border=\"1\" class=\"dataframe\">\n",
       "  <thead>\n",
       "    <tr style=\"text-align: right;\">\n",
       "      <th></th>\n",
       "      <th>School_Year</th>\n",
       "      <th>Borough</th>\n",
       "      <th>Geographical_District_Code</th>\n",
       "      <th>Register</th>\n",
       "      <th>Schools</th>\n",
       "      <th>Schools_in_Building</th>\n",
       "      <th>Major_N</th>\n",
       "      <th>Oth_N</th>\n",
       "      <th>NoCrim_N</th>\n",
       "      <th>Prop_N</th>\n",
       "      <th>Vio_N</th>\n",
       "      <th>ENGroupA</th>\n",
       "      <th>RangeA</th>\n",
       "      <th>AvgOfMajor_N</th>\n",
       "      <th>AvgOfOth_N</th>\n",
       "      <th>AvgOfNoCrim_N</th>\n",
       "      <th>AvgOfProp_N</th>\n",
       "      <th>AvgOfVio_N</th>\n",
       "      <th>All_crimes</th>\n",
       "    </tr>\n",
       "  </thead>\n",
       "  <tbody>\n",
       "    <tr>\n",
       "      <td>0</td>\n",
       "      <td>2013-14</td>\n",
       "      <td>K</td>\n",
       "      <td>15.0</td>\n",
       "      <td>1277.0</td>\n",
       "      <td>1</td>\n",
       "      <td>P.S. 001 The Bergen</td>\n",
       "      <td>0.0</td>\n",
       "      <td>2.0</td>\n",
       "      <td>1.0</td>\n",
       "      <td>1.0</td>\n",
       "      <td>0.0</td>\n",
       "      <td>7C</td>\n",
       "      <td>1251-1500</td>\n",
       "      <td>0.86</td>\n",
       "      <td>3.26</td>\n",
       "      <td>5.55</td>\n",
       "      <td>2.17</td>\n",
       "      <td>1.29</td>\n",
       "      <td>4.0</td>\n",
       "    </tr>\n",
       "    <tr>\n",
       "      <td>1</td>\n",
       "      <td>2013-14</td>\n",
       "      <td>K</td>\n",
       "      <td>17.0</td>\n",
       "      <td>876.0</td>\n",
       "      <td>3</td>\n",
       "      <td>Parkside Preparatory Academy |  P.S. K141 |Exp...</td>\n",
       "      <td>1.0</td>\n",
       "      <td>5.0</td>\n",
       "      <td>2.0</td>\n",
       "      <td>2.0</td>\n",
       "      <td>4.0</td>\n",
       "      <td>5C</td>\n",
       "      <td>751-1000</td>\n",
       "      <td>0.52</td>\n",
       "      <td>1.71</td>\n",
       "      <td>2.49</td>\n",
       "      <td>1.16</td>\n",
       "      <td>0.75</td>\n",
       "      <td>14.0</td>\n",
       "    </tr>\n",
       "    <tr>\n",
       "      <td>2</td>\n",
       "      <td>2013-14</td>\n",
       "      <td>K</td>\n",
       "      <td>13.0</td>\n",
       "      <td>513.0</td>\n",
       "      <td>1</td>\n",
       "      <td>P.S. 003 The Bedford Village</td>\n",
       "      <td>2.0</td>\n",
       "      <td>0.0</td>\n",
       "      <td>0.0</td>\n",
       "      <td>2.0</td>\n",
       "      <td>0.0</td>\n",
       "      <td>4C</td>\n",
       "      <td>501-750</td>\n",
       "      <td>0.33</td>\n",
       "      <td>1.32</td>\n",
       "      <td>1.76</td>\n",
       "      <td>0.83</td>\n",
       "      <td>0.59</td>\n",
       "      <td>4.0</td>\n",
       "    </tr>\n",
       "    <tr>\n",
       "      <td>3</td>\n",
       "      <td>2013-14</td>\n",
       "      <td>K</td>\n",
       "      <td>16.0</td>\n",
       "      <td>312.0</td>\n",
       "      <td>1</td>\n",
       "      <td>P.S. 005 Dr. Ronald Mcnair</td>\n",
       "      <td>1.0</td>\n",
       "      <td>1.0</td>\n",
       "      <td>0.0</td>\n",
       "      <td>2.0</td>\n",
       "      <td>0.0</td>\n",
       "      <td>3C</td>\n",
       "      <td>251-500</td>\n",
       "      <td>0.35</td>\n",
       "      <td>1.06</td>\n",
       "      <td>1.09</td>\n",
       "      <td>0.73</td>\n",
       "      <td>0.50</td>\n",
       "      <td>4.0</td>\n",
       "    </tr>\n",
       "    <tr>\n",
       "      <td>4</td>\n",
       "      <td>2013-14</td>\n",
       "      <td>K</td>\n",
       "      <td>17.0</td>\n",
       "      <td>714.0</td>\n",
       "      <td>1</td>\n",
       "      <td>P.S. 006</td>\n",
       "      <td>0.0</td>\n",
       "      <td>1.0</td>\n",
       "      <td>2.0</td>\n",
       "      <td>0.0</td>\n",
       "      <td>0.0</td>\n",
       "      <td>4C</td>\n",
       "      <td>501-750</td>\n",
       "      <td>0.33</td>\n",
       "      <td>1.32</td>\n",
       "      <td>1.76</td>\n",
       "      <td>0.83</td>\n",
       "      <td>0.59</td>\n",
       "      <td>3.0</td>\n",
       "    </tr>\n",
       "  </tbody>\n",
       "</table>\n",
       "</div>"
      ],
      "text/plain": [
       "  School_Year Borough  Geographical_District_Code  Register  Schools  \\\n",
       "0     2013-14       K                        15.0    1277.0        1   \n",
       "1     2013-14       K                        17.0     876.0        3   \n",
       "2     2013-14       K                        13.0     513.0        1   \n",
       "3     2013-14       K                        16.0     312.0        1   \n",
       "4     2013-14       K                        17.0     714.0        1   \n",
       "\n",
       "                                 Schools_in_Building  Major_N  Oth_N  \\\n",
       "0                                P.S. 001 The Bergen      0.0    2.0   \n",
       "1  Parkside Preparatory Academy |  P.S. K141 |Exp...      1.0    5.0   \n",
       "2                       P.S. 003 The Bedford Village      2.0    0.0   \n",
       "3                         P.S. 005 Dr. Ronald Mcnair      1.0    1.0   \n",
       "4                                           P.S. 006      0.0    1.0   \n",
       "\n",
       "   NoCrim_N  Prop_N  Vio_N ENGroupA     RangeA  AvgOfMajor_N  AvgOfOth_N  \\\n",
       "0       1.0     1.0    0.0       7C  1251-1500          0.86        3.26   \n",
       "1       2.0     2.0    4.0       5C   751-1000          0.52        1.71   \n",
       "2       0.0     2.0    0.0       4C    501-750          0.33        1.32   \n",
       "3       0.0     2.0    0.0       3C    251-500          0.35        1.06   \n",
       "4       2.0     0.0    0.0       4C    501-750          0.33        1.32   \n",
       "\n",
       "   AvgOfNoCrim_N  AvgOfProp_N  AvgOfVio_N  All_crimes  \n",
       "0           5.55         2.17        1.29         4.0  \n",
       "1           2.49         1.16        0.75        14.0  \n",
       "2           1.76         0.83        0.59         4.0  \n",
       "3           1.09         0.73        0.50         4.0  \n",
       "4           1.76         0.83        0.59         3.0  "
      ]
     },
     "execution_count": 157,
     "metadata": {},
     "output_type": "execute_result"
    }
   ],
   "source": [
    "ssr_df1.head()"
   ]
  },
  {
   "cell_type": "code",
   "execution_count": 158,
   "metadata": {},
   "outputs": [
    {
     "data": {
      "text/html": [
       "<div>\n",
       "<style scoped>\n",
       "    .dataframe tbody tr th:only-of-type {\n",
       "        vertical-align: middle;\n",
       "    }\n",
       "\n",
       "    .dataframe tbody tr th {\n",
       "        vertical-align: top;\n",
       "    }\n",
       "\n",
       "    .dataframe thead tr th {\n",
       "        text-align: left;\n",
       "    }\n",
       "\n",
       "    .dataframe thead tr:last-of-type th {\n",
       "        text-align: right;\n",
       "    }\n",
       "</style>\n",
       "<table border=\"1\" class=\"dataframe\">\n",
       "  <thead>\n",
       "    <tr>\n",
       "      <th></th>\n",
       "      <th colspan=\"3\" halign=\"left\">All_crimes</th>\n",
       "    </tr>\n",
       "    <tr>\n",
       "      <th></th>\n",
       "      <th>min</th>\n",
       "      <th>max</th>\n",
       "      <th>mean</th>\n",
       "    </tr>\n",
       "    <tr>\n",
       "      <th>School_Year</th>\n",
       "      <th></th>\n",
       "      <th></th>\n",
       "      <th></th>\n",
       "    </tr>\n",
       "  </thead>\n",
       "  <tbody>\n",
       "    <tr>\n",
       "      <td>2013-14</td>\n",
       "      <td>0.0</td>\n",
       "      <td>126.0</td>\n",
       "      <td>8.102979</td>\n",
       "    </tr>\n",
       "    <tr>\n",
       "      <td>2014-15</td>\n",
       "      <td>0.0</td>\n",
       "      <td>128.0</td>\n",
       "      <td>7.950169</td>\n",
       "    </tr>\n",
       "    <tr>\n",
       "      <td>2015-16</td>\n",
       "      <td>0.0</td>\n",
       "      <td>130.0</td>\n",
       "      <td>7.711149</td>\n",
       "    </tr>\n",
       "  </tbody>\n",
       "</table>\n",
       "</div>"
      ],
      "text/plain": [
       "            All_crimes                 \n",
       "                   min    max      mean\n",
       "School_Year                            \n",
       "2013-14            0.0  126.0  8.102979\n",
       "2014-15            0.0  128.0  7.950169\n",
       "2015-16            0.0  130.0  7.711149"
      ]
     },
     "execution_count": 158,
     "metadata": {},
     "output_type": "execute_result"
    }
   ],
   "source": [
    "ssr_df1.groupby('School_Year').agg({'All_crimes':['min', 'max', 'mean']})\n",
    "\n"
   ]
  },
  {
   "cell_type": "code",
   "execution_count": 159,
   "metadata": {},
   "outputs": [],
   "source": [
    "ssr_df2['All_crimes'] = ssr_df2['Major_N'] + ssr_df2['Oth_N'] + ssr_df2['NoCrim_N'] + ssr_df2['Prop_N'] + ssr_df2['Vio_N']\n",
    "\n"
   ]
  },
  {
   "cell_type": "code",
   "execution_count": 160,
   "metadata": {},
   "outputs": [
    {
     "data": {
      "text/html": [
       "<div>\n",
       "<style scoped>\n",
       "    .dataframe tbody tr th:only-of-type {\n",
       "        vertical-align: middle;\n",
       "    }\n",
       "\n",
       "    .dataframe tbody tr th {\n",
       "        vertical-align: top;\n",
       "    }\n",
       "\n",
       "    .dataframe thead th {\n",
       "        text-align: right;\n",
       "    }\n",
       "</style>\n",
       "<table border=\"1\" class=\"dataframe\">\n",
       "  <thead>\n",
       "    <tr style=\"text-align: right;\">\n",
       "      <th></th>\n",
       "      <th>School_Year</th>\n",
       "      <th>Borough</th>\n",
       "      <th>Geographical_District_Code</th>\n",
       "      <th>Register</th>\n",
       "      <th>Schools</th>\n",
       "      <th>Schools_in_Building</th>\n",
       "      <th>Major_N</th>\n",
       "      <th>Oth_N</th>\n",
       "      <th>NoCrim_N</th>\n",
       "      <th>Prop_N</th>\n",
       "      <th>Vio_N</th>\n",
       "      <th>ENGroupA</th>\n",
       "      <th>RangeA</th>\n",
       "      <th>AvgOfMajor_N</th>\n",
       "      <th>AvgOfOth_N</th>\n",
       "      <th>AvgOfNoCrim_N</th>\n",
       "      <th>AvgOfProp_N</th>\n",
       "      <th>AvgOfVio_N</th>\n",
       "      <th>All_crimes</th>\n",
       "    </tr>\n",
       "  </thead>\n",
       "  <tbody>\n",
       "    <tr>\n",
       "      <td>0</td>\n",
       "      <td>2016 - 17</td>\n",
       "      <td>K</td>\n",
       "      <td>7</td>\n",
       "      <td>618.0</td>\n",
       "      <td>1</td>\n",
       "      <td>Brooklyn College Academy</td>\n",
       "      <td>0.0</td>\n",
       "      <td>0.0</td>\n",
       "      <td>1.0</td>\n",
       "      <td>0.0</td>\n",
       "      <td>0.0</td>\n",
       "      <td>4C</td>\n",
       "      <td>501-750</td>\n",
       "      <td>0.28</td>\n",
       "      <td>1.11</td>\n",
       "      <td>1.74</td>\n",
       "      <td>0.75</td>\n",
       "      <td>0.53</td>\n",
       "      <td>1.0</td>\n",
       "    </tr>\n",
       "    <tr>\n",
       "      <td>1</td>\n",
       "      <td>2016 - 17</td>\n",
       "      <td>Q</td>\n",
       "      <td>28</td>\n",
       "      <td>646.0</td>\n",
       "      <td>1</td>\n",
       "      <td>P.S. 082 Hammond</td>\n",
       "      <td>0.0</td>\n",
       "      <td>1.0</td>\n",
       "      <td>0.0</td>\n",
       "      <td>1.0</td>\n",
       "      <td>0.0</td>\n",
       "      <td>4C</td>\n",
       "      <td>501-750</td>\n",
       "      <td>0.28</td>\n",
       "      <td>1.11</td>\n",
       "      <td>1.74</td>\n",
       "      <td>0.75</td>\n",
       "      <td>0.53</td>\n",
       "      <td>2.0</td>\n",
       "    </tr>\n",
       "    <tr>\n",
       "      <td>2</td>\n",
       "      <td>2016 - 17</td>\n",
       "      <td>K</td>\n",
       "      <td>15</td>\n",
       "      <td>1334.0</td>\n",
       "      <td>1</td>\n",
       "      <td>P.S. 001 The Bergen</td>\n",
       "      <td>0.0</td>\n",
       "      <td>0.0</td>\n",
       "      <td>1.0</td>\n",
       "      <td>0.0</td>\n",
       "      <td>0.0</td>\n",
       "      <td>7C</td>\n",
       "      <td>1251-1500</td>\n",
       "      <td>0.64</td>\n",
       "      <td>3.02</td>\n",
       "      <td>5.77</td>\n",
       "      <td>1.72</td>\n",
       "      <td>1.54</td>\n",
       "      <td>1.0</td>\n",
       "    </tr>\n",
       "    <tr>\n",
       "      <td>3</td>\n",
       "      <td>2016 - 17</td>\n",
       "      <td>M</td>\n",
       "      <td>2</td>\n",
       "      <td>533.0</td>\n",
       "      <td>1</td>\n",
       "      <td>P.S. Q256</td>\n",
       "      <td>0.0</td>\n",
       "      <td>1.0</td>\n",
       "      <td>0.0</td>\n",
       "      <td>0.0</td>\n",
       "      <td>1.0</td>\n",
       "      <td>4C</td>\n",
       "      <td>501-750</td>\n",
       "      <td>0.28</td>\n",
       "      <td>1.11</td>\n",
       "      <td>1.74</td>\n",
       "      <td>0.75</td>\n",
       "      <td>0.53</td>\n",
       "      <td>2.0</td>\n",
       "    </tr>\n",
       "    <tr>\n",
       "      <td>4</td>\n",
       "      <td>2016 - 17</td>\n",
       "      <td>M</td>\n",
       "      <td>2</td>\n",
       "      <td>833.0</td>\n",
       "      <td>1</td>\n",
       "      <td>James Weldon Johnson</td>\n",
       "      <td>0.0</td>\n",
       "      <td>1.0</td>\n",
       "      <td>3.0</td>\n",
       "      <td>0.0</td>\n",
       "      <td>1.0</td>\n",
       "      <td>5C</td>\n",
       "      <td>751-1000</td>\n",
       "      <td>0.38</td>\n",
       "      <td>1.71</td>\n",
       "      <td>2.38</td>\n",
       "      <td>0.98</td>\n",
       "      <td>0.82</td>\n",
       "      <td>5.0</td>\n",
       "    </tr>\n",
       "  </tbody>\n",
       "</table>\n",
       "</div>"
      ],
      "text/plain": [
       "  School_Year Borough  Geographical_District_Code  Register  Schools  \\\n",
       "0   2016 - 17       K                           7     618.0        1   \n",
       "1   2016 - 17       Q                          28     646.0        1   \n",
       "2   2016 - 17       K                          15    1334.0        1   \n",
       "3   2016 - 17       M                           2     533.0        1   \n",
       "4   2016 - 17       M                           2     833.0        1   \n",
       "\n",
       "        Schools_in_Building  Major_N  Oth_N  NoCrim_N  Prop_N  Vio_N ENGroupA  \\\n",
       "0  Brooklyn College Academy      0.0    0.0       1.0     0.0    0.0       4C   \n",
       "1          P.S. 082 Hammond      0.0    1.0       0.0     1.0    0.0       4C   \n",
       "2       P.S. 001 The Bergen      0.0    0.0       1.0     0.0    0.0       7C   \n",
       "3                 P.S. Q256      0.0    1.0       0.0     0.0    1.0       4C   \n",
       "4      James Weldon Johnson      0.0    1.0       3.0     0.0    1.0       5C   \n",
       "\n",
       "      RangeA  AvgOfMajor_N  AvgOfOth_N  AvgOfNoCrim_N  AvgOfProp_N  \\\n",
       "0    501-750          0.28        1.11           1.74         0.75   \n",
       "1    501-750          0.28        1.11           1.74         0.75   \n",
       "2  1251-1500          0.64        3.02           5.77         1.72   \n",
       "3    501-750          0.28        1.11           1.74         0.75   \n",
       "4   751-1000          0.38        1.71           2.38         0.98   \n",
       "\n",
       "   AvgOfVio_N  All_crimes  \n",
       "0        0.53         1.0  \n",
       "1        0.53         2.0  \n",
       "2        1.54         1.0  \n",
       "3        0.53         2.0  \n",
       "4        0.82         5.0  "
      ]
     },
     "execution_count": 160,
     "metadata": {},
     "output_type": "execute_result"
    }
   ],
   "source": [
    "ssr_df2.head()"
   ]
  },
  {
   "cell_type": "code",
   "execution_count": 161,
   "metadata": {},
   "outputs": [
    {
     "data": {
      "text/html": [
       "<div>\n",
       "<style scoped>\n",
       "    .dataframe tbody tr th:only-of-type {\n",
       "        vertical-align: middle;\n",
       "    }\n",
       "\n",
       "    .dataframe tbody tr th {\n",
       "        vertical-align: top;\n",
       "    }\n",
       "\n",
       "    .dataframe thead tr th {\n",
       "        text-align: left;\n",
       "    }\n",
       "\n",
       "    .dataframe thead tr:last-of-type th {\n",
       "        text-align: right;\n",
       "    }\n",
       "</style>\n",
       "<table border=\"1\" class=\"dataframe\">\n",
       "  <thead>\n",
       "    <tr>\n",
       "      <th></th>\n",
       "      <th colspan=\"3\" halign=\"left\">All_crimes</th>\n",
       "    </tr>\n",
       "    <tr>\n",
       "      <th></th>\n",
       "      <th>min</th>\n",
       "      <th>max</th>\n",
       "      <th>mean</th>\n",
       "    </tr>\n",
       "    <tr>\n",
       "      <th>School_Year</th>\n",
       "      <th></th>\n",
       "      <th></th>\n",
       "      <th></th>\n",
       "    </tr>\n",
       "  </thead>\n",
       "  <tbody>\n",
       "    <tr>\n",
       "      <td>2016 - 17</td>\n",
       "      <td>0.0</td>\n",
       "      <td>114.0</td>\n",
       "      <td>7.485501</td>\n",
       "    </tr>\n",
       "  </tbody>\n",
       "</table>\n",
       "</div>"
      ],
      "text/plain": [
       "            All_crimes                 \n",
       "                   min    max      mean\n",
       "School_Year                            \n",
       "2016 - 17          0.0  114.0  7.485501"
      ]
     },
     "execution_count": 161,
     "metadata": {},
     "output_type": "execute_result"
    }
   ],
   "source": [
    "ssr_df2.groupby('School_Year').agg({'All_crimes':['min', 'max', 'mean']})\n",
    "\n"
   ]
  },
  {
   "cell_type": "code",
   "execution_count": 162,
   "metadata": {},
   "outputs": [
    {
     "data": {
      "text/plain": [
       "Ttest_indResult(statistic=1.0085891763517827, pvalue=0.31322309609765847)"
      ]
     },
     "execution_count": 162,
     "metadata": {},
     "output_type": "execute_result"
    }
   ],
   "source": [
    "ttest_ind(ssr_df1['All_crimes'], ssr_df2['All_crimes'])"
   ]
  },
  {
   "cell_type": "markdown",
   "metadata": {},
   "source": [
    "P-value > 0.05 suggests null-hypothesis is true. "
   ]
  }
 ],
 "metadata": {
  "kernelspec": {
   "display_name": "Python 3",
   "language": "python",
   "name": "python3"
  },
  "language_info": {
   "codemirror_mode": {
    "name": "ipython",
    "version": 3
   },
   "file_extension": ".py",
   "mimetype": "text/x-python",
   "name": "python",
   "nbconvert_exporter": "python",
   "pygments_lexer": "ipython3",
   "version": "3.7.4"
  }
 },
 "nbformat": 4,
 "nbformat_minor": 2
}
